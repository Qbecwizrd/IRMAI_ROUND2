{
  "nbformat": 4,
  "nbformat_minor": 0,
  "metadata": {
    "colab": {
      "provenance": []
    },
    "kernelspec": {
      "name": "python3",
      "display_name": "Python 3"
    },
    "language_info": {
      "name": "python"
    }
  },
  "cells": [
    {
      "cell_type": "code",
      "execution_count": 39,
      "metadata": {
        "colab": {
          "base_uri": "https://localhost:8080/"
        },
        "id": "jzP8oM7YvM4C",
        "outputId": "08a83e2e-85a8-4bb8-f910-92b0888ecfb3"
      },
      "outputs": [
        {
          "output_type": "stream",
          "name": "stdout",
          "text": [
            "Drive already mounted at /content/drive; to attempt to forcibly remount, call drive.mount(\"/content/drive\", force_remount=True).\n"
          ]
        }
      ],
      "source": [
        "from google.colab import drive\n",
        "drive.mount('/content/drive')"
      ]
    },
    {
      "cell_type": "code",
      "source": [
        "import pandas as pd\n",
        "import matplotlib.pyplot as plt\n",
        "import numpy as np"
      ],
      "metadata": {
        "id": "Y7hU-Km7vh-V"
      },
      "execution_count": 40,
      "outputs": []
    },
    {
      "cell_type": "code",
      "source": [
        "csv_path='/content/drive/MyDrive/IRMAI/test.csv'"
      ],
      "metadata": {
        "id": "meN89YScvRc-"
      },
      "execution_count": 42,
      "outputs": []
    },
    {
      "cell_type": "code",
      "source": [
        "data=pd.read_csv(csv_path)"
      ],
      "metadata": {
        "id": "a4wmlr1PvgiQ"
      },
      "execution_count": 43,
      "outputs": []
    },
    {
      "cell_type": "code",
      "source": [
        "data.head()"
      ],
      "metadata": {
        "colab": {
          "base_uri": "https://localhost:8080/",
          "height": 206
        },
        "id": "oG2Dma-xvoW1",
        "outputId": "24138f9d-3146-4bd8-e9f7-878297b45626"
      },
      "execution_count": 44,
      "outputs": [
        {
          "output_type": "execute_result",
          "data": {
            "text/plain": [
              "   Trade_ID            Timestamp Stock_Symbol  Price  Volume\n",
              "0         6  2024-02-19 10:25:00         AAPL  152.5     130\n",
              "1         7  2024-02-19 10:30:00         MSFT  300.0     190\n",
              "2         8  2024-02-19 10:35:00         AAPL  153.0     110\n",
              "3         9  2024-02-19 10:40:00         MSFT  299.5     170\n",
              "4        10  2024-02-19 10:45:00         AAPL  152.8     160"
            ],
            "text/html": [
              "\n",
              "  <div id=\"df-5d94a6d6-a7ae-496c-b88f-ef6d47856f0b\" class=\"colab-df-container\">\n",
              "    <div>\n",
              "<style scoped>\n",
              "    .dataframe tbody tr th:only-of-type {\n",
              "        vertical-align: middle;\n",
              "    }\n",
              "\n",
              "    .dataframe tbody tr th {\n",
              "        vertical-align: top;\n",
              "    }\n",
              "\n",
              "    .dataframe thead th {\n",
              "        text-align: right;\n",
              "    }\n",
              "</style>\n",
              "<table border=\"1\" class=\"dataframe\">\n",
              "  <thead>\n",
              "    <tr style=\"text-align: right;\">\n",
              "      <th></th>\n",
              "      <th>Trade_ID</th>\n",
              "      <th>Timestamp</th>\n",
              "      <th>Stock_Symbol</th>\n",
              "      <th>Price</th>\n",
              "      <th>Volume</th>\n",
              "    </tr>\n",
              "  </thead>\n",
              "  <tbody>\n",
              "    <tr>\n",
              "      <th>0</th>\n",
              "      <td>6</td>\n",
              "      <td>2024-02-19 10:25:00</td>\n",
              "      <td>AAPL</td>\n",
              "      <td>152.5</td>\n",
              "      <td>130</td>\n",
              "    </tr>\n",
              "    <tr>\n",
              "      <th>1</th>\n",
              "      <td>7</td>\n",
              "      <td>2024-02-19 10:30:00</td>\n",
              "      <td>MSFT</td>\n",
              "      <td>300.0</td>\n",
              "      <td>190</td>\n",
              "    </tr>\n",
              "    <tr>\n",
              "      <th>2</th>\n",
              "      <td>8</td>\n",
              "      <td>2024-02-19 10:35:00</td>\n",
              "      <td>AAPL</td>\n",
              "      <td>153.0</td>\n",
              "      <td>110</td>\n",
              "    </tr>\n",
              "    <tr>\n",
              "      <th>3</th>\n",
              "      <td>9</td>\n",
              "      <td>2024-02-19 10:40:00</td>\n",
              "      <td>MSFT</td>\n",
              "      <td>299.5</td>\n",
              "      <td>170</td>\n",
              "    </tr>\n",
              "    <tr>\n",
              "      <th>4</th>\n",
              "      <td>10</td>\n",
              "      <td>2024-02-19 10:45:00</td>\n",
              "      <td>AAPL</td>\n",
              "      <td>152.8</td>\n",
              "      <td>160</td>\n",
              "    </tr>\n",
              "  </tbody>\n",
              "</table>\n",
              "</div>\n",
              "    <div class=\"colab-df-buttons\">\n",
              "\n",
              "  <div class=\"colab-df-container\">\n",
              "    <button class=\"colab-df-convert\" onclick=\"convertToInteractive('df-5d94a6d6-a7ae-496c-b88f-ef6d47856f0b')\"\n",
              "            title=\"Convert this dataframe to an interactive table.\"\n",
              "            style=\"display:none;\">\n",
              "\n",
              "  <svg xmlns=\"http://www.w3.org/2000/svg\" height=\"24px\" viewBox=\"0 -960 960 960\">\n",
              "    <path d=\"M120-120v-720h720v720H120Zm60-500h600v-160H180v160Zm220 220h160v-160H400v160Zm0 220h160v-160H400v160ZM180-400h160v-160H180v160Zm440 0h160v-160H620v160ZM180-180h160v-160H180v160Zm440 0h160v-160H620v160Z\"/>\n",
              "  </svg>\n",
              "    </button>\n",
              "\n",
              "  <style>\n",
              "    .colab-df-container {\n",
              "      display:flex;\n",
              "      gap: 12px;\n",
              "    }\n",
              "\n",
              "    .colab-df-convert {\n",
              "      background-color: #E8F0FE;\n",
              "      border: none;\n",
              "      border-radius: 50%;\n",
              "      cursor: pointer;\n",
              "      display: none;\n",
              "      fill: #1967D2;\n",
              "      height: 32px;\n",
              "      padding: 0 0 0 0;\n",
              "      width: 32px;\n",
              "    }\n",
              "\n",
              "    .colab-df-convert:hover {\n",
              "      background-color: #E2EBFA;\n",
              "      box-shadow: 0px 1px 2px rgba(60, 64, 67, 0.3), 0px 1px 3px 1px rgba(60, 64, 67, 0.15);\n",
              "      fill: #174EA6;\n",
              "    }\n",
              "\n",
              "    .colab-df-buttons div {\n",
              "      margin-bottom: 4px;\n",
              "    }\n",
              "\n",
              "    [theme=dark] .colab-df-convert {\n",
              "      background-color: #3B4455;\n",
              "      fill: #D2E3FC;\n",
              "    }\n",
              "\n",
              "    [theme=dark] .colab-df-convert:hover {\n",
              "      background-color: #434B5C;\n",
              "      box-shadow: 0px 1px 3px 1px rgba(0, 0, 0, 0.15);\n",
              "      filter: drop-shadow(0px 1px 2px rgba(0, 0, 0, 0.3));\n",
              "      fill: #FFFFFF;\n",
              "    }\n",
              "  </style>\n",
              "\n",
              "    <script>\n",
              "      const buttonEl =\n",
              "        document.querySelector('#df-5d94a6d6-a7ae-496c-b88f-ef6d47856f0b button.colab-df-convert');\n",
              "      buttonEl.style.display =\n",
              "        google.colab.kernel.accessAllowed ? 'block' : 'none';\n",
              "\n",
              "      async function convertToInteractive(key) {\n",
              "        const element = document.querySelector('#df-5d94a6d6-a7ae-496c-b88f-ef6d47856f0b');\n",
              "        const dataTable =\n",
              "          await google.colab.kernel.invokeFunction('convertToInteractive',\n",
              "                                                    [key], {});\n",
              "        if (!dataTable) return;\n",
              "\n",
              "        const docLinkHtml = 'Like what you see? Visit the ' +\n",
              "          '<a target=\"_blank\" href=https://colab.research.google.com/notebooks/data_table.ipynb>data table notebook</a>'\n",
              "          + ' to learn more about interactive tables.';\n",
              "        element.innerHTML = '';\n",
              "        dataTable['output_type'] = 'display_data';\n",
              "        await google.colab.output.renderOutput(dataTable, element);\n",
              "        const docLink = document.createElement('div');\n",
              "        docLink.innerHTML = docLinkHtml;\n",
              "        element.appendChild(docLink);\n",
              "      }\n",
              "    </script>\n",
              "  </div>\n",
              "\n",
              "\n",
              "<div id=\"df-30a26f05-ee15-4019-9360-786954ab5bd5\">\n",
              "  <button class=\"colab-df-quickchart\" onclick=\"quickchart('df-30a26f05-ee15-4019-9360-786954ab5bd5')\"\n",
              "            title=\"Suggest charts\"\n",
              "            style=\"display:none;\">\n",
              "\n",
              "<svg xmlns=\"http://www.w3.org/2000/svg\" height=\"24px\"viewBox=\"0 0 24 24\"\n",
              "     width=\"24px\">\n",
              "    <g>\n",
              "        <path d=\"M19 3H5c-1.1 0-2 .9-2 2v14c0 1.1.9 2 2 2h14c1.1 0 2-.9 2-2V5c0-1.1-.9-2-2-2zM9 17H7v-7h2v7zm4 0h-2V7h2v10zm4 0h-2v-4h2v4z\"/>\n",
              "    </g>\n",
              "</svg>\n",
              "  </button>\n",
              "\n",
              "<style>\n",
              "  .colab-df-quickchart {\n",
              "      --bg-color: #E8F0FE;\n",
              "      --fill-color: #1967D2;\n",
              "      --hover-bg-color: #E2EBFA;\n",
              "      --hover-fill-color: #174EA6;\n",
              "      --disabled-fill-color: #AAA;\n",
              "      --disabled-bg-color: #DDD;\n",
              "  }\n",
              "\n",
              "  [theme=dark] .colab-df-quickchart {\n",
              "      --bg-color: #3B4455;\n",
              "      --fill-color: #D2E3FC;\n",
              "      --hover-bg-color: #434B5C;\n",
              "      --hover-fill-color: #FFFFFF;\n",
              "      --disabled-bg-color: #3B4455;\n",
              "      --disabled-fill-color: #666;\n",
              "  }\n",
              "\n",
              "  .colab-df-quickchart {\n",
              "    background-color: var(--bg-color);\n",
              "    border: none;\n",
              "    border-radius: 50%;\n",
              "    cursor: pointer;\n",
              "    display: none;\n",
              "    fill: var(--fill-color);\n",
              "    height: 32px;\n",
              "    padding: 0;\n",
              "    width: 32px;\n",
              "  }\n",
              "\n",
              "  .colab-df-quickchart:hover {\n",
              "    background-color: var(--hover-bg-color);\n",
              "    box-shadow: 0 1px 2px rgba(60, 64, 67, 0.3), 0 1px 3px 1px rgba(60, 64, 67, 0.15);\n",
              "    fill: var(--button-hover-fill-color);\n",
              "  }\n",
              "\n",
              "  .colab-df-quickchart-complete:disabled,\n",
              "  .colab-df-quickchart-complete:disabled:hover {\n",
              "    background-color: var(--disabled-bg-color);\n",
              "    fill: var(--disabled-fill-color);\n",
              "    box-shadow: none;\n",
              "  }\n",
              "\n",
              "  .colab-df-spinner {\n",
              "    border: 2px solid var(--fill-color);\n",
              "    border-color: transparent;\n",
              "    border-bottom-color: var(--fill-color);\n",
              "    animation:\n",
              "      spin 1s steps(1) infinite;\n",
              "  }\n",
              "\n",
              "  @keyframes spin {\n",
              "    0% {\n",
              "      border-color: transparent;\n",
              "      border-bottom-color: var(--fill-color);\n",
              "      border-left-color: var(--fill-color);\n",
              "    }\n",
              "    20% {\n",
              "      border-color: transparent;\n",
              "      border-left-color: var(--fill-color);\n",
              "      border-top-color: var(--fill-color);\n",
              "    }\n",
              "    30% {\n",
              "      border-color: transparent;\n",
              "      border-left-color: var(--fill-color);\n",
              "      border-top-color: var(--fill-color);\n",
              "      border-right-color: var(--fill-color);\n",
              "    }\n",
              "    40% {\n",
              "      border-color: transparent;\n",
              "      border-right-color: var(--fill-color);\n",
              "      border-top-color: var(--fill-color);\n",
              "    }\n",
              "    60% {\n",
              "      border-color: transparent;\n",
              "      border-right-color: var(--fill-color);\n",
              "    }\n",
              "    80% {\n",
              "      border-color: transparent;\n",
              "      border-right-color: var(--fill-color);\n",
              "      border-bottom-color: var(--fill-color);\n",
              "    }\n",
              "    90% {\n",
              "      border-color: transparent;\n",
              "      border-bottom-color: var(--fill-color);\n",
              "    }\n",
              "  }\n",
              "</style>\n",
              "\n",
              "  <script>\n",
              "    async function quickchart(key) {\n",
              "      const quickchartButtonEl =\n",
              "        document.querySelector('#' + key + ' button');\n",
              "      quickchartButtonEl.disabled = true;  // To prevent multiple clicks.\n",
              "      quickchartButtonEl.classList.add('colab-df-spinner');\n",
              "      try {\n",
              "        const charts = await google.colab.kernel.invokeFunction(\n",
              "            'suggestCharts', [key], {});\n",
              "      } catch (error) {\n",
              "        console.error('Error during call to suggestCharts:', error);\n",
              "      }\n",
              "      quickchartButtonEl.classList.remove('colab-df-spinner');\n",
              "      quickchartButtonEl.classList.add('colab-df-quickchart-complete');\n",
              "    }\n",
              "    (() => {\n",
              "      let quickchartButtonEl =\n",
              "        document.querySelector('#df-30a26f05-ee15-4019-9360-786954ab5bd5 button');\n",
              "      quickchartButtonEl.style.display =\n",
              "        google.colab.kernel.accessAllowed ? 'block' : 'none';\n",
              "    })();\n",
              "  </script>\n",
              "</div>\n",
              "\n",
              "    </div>\n",
              "  </div>\n"
            ],
            "application/vnd.google.colaboratory.intrinsic+json": {
              "type": "dataframe",
              "variable_name": "data",
              "summary": "{\n  \"name\": \"data\",\n  \"rows\": 95,\n  \"fields\": [\n    {\n      \"column\": \"Trade_ID\",\n      \"properties\": {\n        \"dtype\": \"number\",\n        \"std\": 27,\n        \"min\": 6,\n        \"max\": 100,\n        \"num_unique_values\": 95,\n        \"samples\": [\n          74,\n          28,\n          78\n        ],\n        \"semantic_type\": \"\",\n        \"description\": \"\"\n      }\n    },\n    {\n      \"column\": \"Timestamp\",\n      \"properties\": {\n        \"dtype\": \"object\",\n        \"num_unique_values\": 95,\n        \"samples\": [\n          \"2024-02-19 16:05:00\",\n          \"2024-02-19 12:15:00\",\n          \"2024-02-19 16:25:00\"\n        ],\n        \"semantic_type\": \"\",\n        \"description\": \"\"\n      }\n    },\n    {\n      \"column\": \"Stock_Symbol\",\n      \"properties\": {\n        \"dtype\": \"category\",\n        \"num_unique_values\": 2,\n        \"samples\": [\n          \"MSFT\",\n          \"AAPL\"\n        ],\n        \"semantic_type\": \"\",\n        \"description\": \"\"\n      }\n    },\n    {\n      \"column\": \"Price\",\n      \"properties\": {\n        \"dtype\": \"number\",\n        \"std\": 73.87009574863603,\n        \"min\": 152.5,\n        \"max\": 300.5,\n        \"num_unique_values\": 22,\n        \"samples\": [\n          152.5,\n          300.3\n        ],\n        \"semantic_type\": \"\",\n        \"description\": \"\"\n      }\n    },\n    {\n      \"column\": \"Volume\",\n      \"properties\": {\n        \"dtype\": \"number\",\n        \"std\": 30,\n        \"min\": 110,\n        \"max\": 220,\n        \"num_unique_values\": 11,\n        \"samples\": [\n          210,\n          130\n        ],\n        \"semantic_type\": \"\",\n        \"description\": \"\"\n      }\n    }\n  ]\n}"
            }
          },
          "metadata": {},
          "execution_count": 44
        }
      ]
    },
    {
      "cell_type": "code",
      "source": [
        "##Installing the Driver\n",
        "!pip install neo4j"
      ],
      "metadata": {
        "colab": {
          "base_uri": "https://localhost:8080/"
        },
        "id": "wwZoW441vq5V",
        "outputId": "24f74856-d9b5-45b8-aef7-566d81a9d937"
      },
      "execution_count": 45,
      "outputs": [
        {
          "output_type": "stream",
          "name": "stdout",
          "text": [
            "Requirement already satisfied: neo4j in /usr/local/lib/python3.11/dist-packages (5.28.1)\n",
            "Requirement already satisfied: pytz in /usr/local/lib/python3.11/dist-packages (from neo4j) (2025.1)\n"
          ]
        }
      ]
    },
    {
      "cell_type": "code",
      "source": [
        "##Importing the Graph Database\n",
        "from neo4j import GraphDatabase\n",
        "\n",
        "URI = \"neo4j+s://fcc40631.databases.neo4j.io\"\n",
        "USERNAME = \"neo4j\"\n",
        "PASSWORD = \"4wiyIAjLKMeyl7egS7JY3NrvT20hu2Y8hAYM-4IZFY4\"\n",
        "\n",
        "driver=GraphDatabase.driver(URI, auth=(USERNAME, PASSWORD))\n",
        "\n",
        "def test_connection(tx):\n",
        "  res = tx.run('MATCH (n) RETURN COUNT(n) as node_count')\n",
        "  return res.single()['node_count']\n",
        "\n",
        "##Try o run the test query\n",
        "with driver.session() as session:\n",
        "  result = session.read_transaction(test_connection)\n",
        "  print(result)"
      ],
      "metadata": {
        "colab": {
          "base_uri": "https://localhost:8080/"
        },
        "id": "bAP21mCDwhsE",
        "outputId": "0b3444d4-ef84-437d-acd1-0bc95f37022a"
      },
      "execution_count": 46,
      "outputs": [
        {
          "output_type": "stream",
          "name": "stderr",
          "text": [
            "<ipython-input-46-3bff1a6650d0>:16: DeprecationWarning: read_transaction has been renamed to execute_read\n",
            "  result = session.read_transaction(test_connection)\n"
          ]
        },
        {
          "output_type": "stream",
          "name": "stdout",
          "text": [
            "5\n"
          ]
        }
      ]
    },
    {
      "cell_type": "code",
      "source": [
        "##This signify that the connection to the graph database has been established"
      ],
      "metadata": {
        "id": "22hO9h-ax4EH"
      },
      "execution_count": 47,
      "outputs": []
    },
    {
      "cell_type": "code",
      "source": [
        "def insert_trade(tx,symbol,timestamp,price,volume):\n",
        "  query = \"\"\"\n",
        "    MERGE (t:Trade {symbol: $symbol, timestamp: $timestamp})\n",
        "    SET t.price = $price, t.volume = $volume;\n",
        "    \"\"\"\n",
        "\n",
        "  tx.run(query, symbol=symbol, timestamp=timestamp, price=price, volume=volume)\n",
        "\n"
      ],
      "metadata": {
        "id": "unuewYGFyCJr"
      },
      "execution_count": 48,
      "outputs": []
    },
    {
      "cell_type": "code",
      "source": [
        "with driver.session() as session:\n",
        "  for index, row in data.iterrows():\n",
        "    session.write_transaction(insert_trade, row['Stock_Symbol'], row['Timestamp'], row['Price'], row['Volume'])"
      ],
      "metadata": {
        "colab": {
          "base_uri": "https://localhost:8080/"
        },
        "id": "XmO6heM7z1mV",
        "outputId": "8b319e72-344f-491e-84eb-f538f836f18a"
      },
      "execution_count": 49,
      "outputs": [
        {
          "output_type": "stream",
          "name": "stderr",
          "text": [
            "<ipython-input-49-9fa8bf52e685>:3: DeprecationWarning: write_transaction has been renamed to execute_write\n",
            "  session.write_transaction(insert_trade, row['Stock_Symbol'], row['Timestamp'], row['Price'], row['Volume'])\n"
          ]
        }
      ]
    },
    {
      "cell_type": "code",
      "source": [
        "with driver.session() as session:\n",
        "  result = session.read_transaction(test_connection)\n",
        "  print(result)"
      ],
      "metadata": {
        "colab": {
          "base_uri": "https://localhost:8080/"
        },
        "id": "BfsgZxLV0GUh",
        "outputId": "6a85ed51-8bde-4b3f-fd73-f29e1d4c8899"
      },
      "execution_count": 50,
      "outputs": [
        {
          "output_type": "stream",
          "name": "stderr",
          "text": [
            "<ipython-input-50-807ce57ff5ba>:2: DeprecationWarning: read_transaction has been renamed to execute_read\n",
            "  result = session.read_transaction(test_connection)\n"
          ]
        },
        {
          "output_type": "stream",
          "name": "stdout",
          "text": [
            "100\n"
          ]
        }
      ]
    },
    {
      "cell_type": "code",
      "source": [
        "##The upper number 5 signify that the data is insertd into the Graph Database"
      ],
      "metadata": {
        "id": "Htaj4fhN0JnA"
      },
      "execution_count": 51,
      "outputs": []
    },
    {
      "cell_type": "code",
      "source": [
        "def create_relationships(tx, query):\n",
        "    tx.run(query)\n",
        "\n",
        "next_trade_query = \"\"\"\n",
        "MATCH (t1:Trade), (t2:Trade)\n",
        "WHERE t1.symbol = t2.symbol AND t1.timestamp < t2.timestamp\n",
        "WITH t1, t2 ORDER BY t2.timestamp ASC\n",
        "WITH t1, head(collect(t2)) AS next_trade\n",
        "MERGE (t1)-[:NEXT_TRADE]->(next_trade);\n",
        "\"\"\"\n",
        "\n",
        "similar_trade_query = \"\"\"\n",
        "MATCH (t1:Trade), (t2:Trade)\n",
        "WHERE t1.symbol = t2.symbol\n",
        "AND abs(t1.price - t2.price) < 1.0\n",
        "AND abs(t1.volume - t2.volume) < 100\n",
        "AND t1.timestamp < t2.timestamp\n",
        "MERGE (t1)-[:SIMILAR_TRADE]->(t2);\n",
        "\"\"\"\n",
        "\n",
        "# Run queries\n",
        "with driver.session() as session:\n",
        "    session.execute_write(create_relationships, next_trade_query)\n",
        "    session.execute_write(create_relationships, similar_trade_query)\n",
        "\n",
        "print(\"Relationships created successfully!\")\n"
      ],
      "metadata": {
        "colab": {
          "base_uri": "https://localhost:8080/"
        },
        "id": "WPwy_J-_0Pyj",
        "outputId": "68efb2b4-f31b-436c-884d-f9144a9e1441"
      },
      "execution_count": 52,
      "outputs": [
        {
          "output_type": "stream",
          "name": "stdout",
          "text": [
            "Relationships created successfully!\n"
          ]
        }
      ]
    },
    {
      "source": [
        "def run_gap_analysis(tx, query):\n",
        "    result = tx.run(query)\n",
        "    return [record.data() for record in result]\n",
        "\n",
        "missing_trades_query = \"\"\"\n",
        "MATCH (t1:Trade)-[:NEXT_TRADE]->(t2:Trade)\n",
        "WHERE duration.between(\n",
        "  datetime(apoc.date.convertFormat(t1.timestamp, 'yyyy-MM-dd HH:mm:ss', \"yyyy-MM-dd'T'HH:mm:ss\")),\n",
        "  datetime(apoc.date.convertFormat(t2.timestamp, 'yyyy-MM-dd HH:mm:ss', \"yyyy-MM-dd'T'HH:mm:ss\"))\n",
        ").minutes > 4\n",
        "RETURN t1.symbol, t1.timestamp AS last_trade, t2.timestamp AS next_trade,\n",
        "       duration.between(\n",
        "         datetime(apoc.date.convertFormat(t1.timestamp, 'yyyy-MM-dd HH:mm:ss', \"yyyy-MM-dd'T'HH:mm:ss\")),\n",
        "         datetime(apoc.date.convertFormat(t2.timestamp, 'yyyy-MM-dd HH:mm:ss', \"yyyy-MM-dd'T'HH:mm:ss\"))\n",
        "       ) AS gap_duration;\n",
        "\n",
        "\n",
        "\"\"\"\n",
        "\n",
        "price_jump_query = \"\"\"\n",
        "MATCH (t1:Trade)-[:NEXT_TRADE]->(t2:Trade)\n",
        "WHERE abs(t2.price - t1.price) > 5.0\n",
        "RETURN t1.symbol, t1.timestamp, t1.price, t2.timestamp, t2.price,\n",
        "       abs(t2.price - t1.price) AS price_change;\n",
        "\"\"\"\n",
        "\n",
        "with driver.session() as session:\n",
        "    missing_trades = session.execute_read(run_gap_analysis, missing_trades_query)\n",
        "    price_jumps = session.execute_read(run_gap_analysis, price_jump_query)\n",
        "\n",
        "print(\" Missing Trades Detected:\", missing_trades)\n",
        "print(\" Unusual Price Jumps:\", price_jumps)\n"
      ],
      "cell_type": "code",
      "metadata": {
        "colab": {
          "base_uri": "https://localhost:8080/"
        },
        "id": "uQUQKi2w2TDk",
        "outputId": "26b7754c-171a-49a2-f164-f6e411a253bd"
      },
      "execution_count": 59,
      "outputs": [
        {
          "output_type": "stream",
          "name": "stdout",
          "text": [
            " Missing Trades Detected: [{'t1.symbol': 'AAPL', 'last_trade': '2024-02-19 10:00:00', 'next_trade': '2024-02-19 10:05:00', 'gap_duration': Duration(months=0, days=0, seconds=300, nanoseconds=0)}, {'t1.symbol': 'AAPL', 'last_trade': '2024-02-19 10:05:00', 'next_trade': '2024-02-19 10:15:00', 'gap_duration': Duration(months=0, days=0, seconds=600, nanoseconds=0)}, {'t1.symbol': 'MSFT', 'last_trade': '2024-02-19 10:10:00', 'next_trade': '2024-02-19 10:20:00', 'gap_duration': Duration(months=0, days=0, seconds=600, nanoseconds=0)}, {'t1.symbol': 'AAPL', 'last_trade': '2024-02-19 10:15:00', 'next_trade': '2024-02-19 10:25:00', 'gap_duration': Duration(months=0, days=0, seconds=600, nanoseconds=0)}, {'t1.symbol': 'MSFT', 'last_trade': '2024-02-19 10:20:00', 'next_trade': '2024-02-19 10:30:00', 'gap_duration': Duration(months=0, days=0, seconds=600, nanoseconds=0)}, {'t1.symbol': 'AAPL', 'last_trade': '2024-02-19 10:25:00', 'next_trade': '2024-02-19 10:35:00', 'gap_duration': Duration(months=0, days=0, seconds=600, nanoseconds=0)}, {'t1.symbol': 'MSFT', 'last_trade': '2024-02-19 10:30:00', 'next_trade': '2024-02-19 10:40:00', 'gap_duration': Duration(months=0, days=0, seconds=600, nanoseconds=0)}, {'t1.symbol': 'AAPL', 'last_trade': '2024-02-19 10:35:00', 'next_trade': '2024-02-19 10:45:00', 'gap_duration': Duration(months=0, days=0, seconds=600, nanoseconds=0)}, {'t1.symbol': 'MSFT', 'last_trade': '2024-02-19 10:40:00', 'next_trade': '2024-02-19 10:50:00', 'gap_duration': Duration(months=0, days=0, seconds=600, nanoseconds=0)}, {'t1.symbol': 'AAPL', 'last_trade': '2024-02-19 10:45:00', 'next_trade': '2024-02-19 10:55:00', 'gap_duration': Duration(months=0, days=0, seconds=600, nanoseconds=0)}, {'t1.symbol': 'MSFT', 'last_trade': '2024-02-19 10:50:00', 'next_trade': '2024-02-19 11:00:00', 'gap_duration': Duration(months=0, days=0, seconds=600, nanoseconds=0)}, {'t1.symbol': 'AAPL', 'last_trade': '2024-02-19 10:55:00', 'next_trade': '2024-02-19 11:05:00', 'gap_duration': Duration(months=0, days=0, seconds=600, nanoseconds=0)}, {'t1.symbol': 'MSFT', 'last_trade': '2024-02-19 11:00:00', 'next_trade': '2024-02-19 11:10:00', 'gap_duration': Duration(months=0, days=0, seconds=600, nanoseconds=0)}, {'t1.symbol': 'AAPL', 'last_trade': '2024-02-19 11:05:00', 'next_trade': '2024-02-19 11:15:00', 'gap_duration': Duration(months=0, days=0, seconds=600, nanoseconds=0)}, {'t1.symbol': 'MSFT', 'last_trade': '2024-02-19 11:10:00', 'next_trade': '2024-02-19 11:20:00', 'gap_duration': Duration(months=0, days=0, seconds=600, nanoseconds=0)}, {'t1.symbol': 'AAPL', 'last_trade': '2024-02-19 11:15:00', 'next_trade': '2024-02-19 11:25:00', 'gap_duration': Duration(months=0, days=0, seconds=600, nanoseconds=0)}, {'t1.symbol': 'MSFT', 'last_trade': '2024-02-19 11:20:00', 'next_trade': '2024-02-19 11:30:00', 'gap_duration': Duration(months=0, days=0, seconds=600, nanoseconds=0)}, {'t1.symbol': 'AAPL', 'last_trade': '2024-02-19 11:25:00', 'next_trade': '2024-02-19 11:35:00', 'gap_duration': Duration(months=0, days=0, seconds=600, nanoseconds=0)}, {'t1.symbol': 'MSFT', 'last_trade': '2024-02-19 11:30:00', 'next_trade': '2024-02-19 11:40:00', 'gap_duration': Duration(months=0, days=0, seconds=600, nanoseconds=0)}, {'t1.symbol': 'AAPL', 'last_trade': '2024-02-19 11:35:00', 'next_trade': '2024-02-19 11:45:00', 'gap_duration': Duration(months=0, days=0, seconds=600, nanoseconds=0)}, {'t1.symbol': 'MSFT', 'last_trade': '2024-02-19 11:40:00', 'next_trade': '2024-02-19 11:50:00', 'gap_duration': Duration(months=0, days=0, seconds=600, nanoseconds=0)}, {'t1.symbol': 'AAPL', 'last_trade': '2024-02-19 11:45:00', 'next_trade': '2024-02-19 11:55:00', 'gap_duration': Duration(months=0, days=0, seconds=600, nanoseconds=0)}, {'t1.symbol': 'MSFT', 'last_trade': '2024-02-19 11:50:00', 'next_trade': '2024-02-19 12:00:00', 'gap_duration': Duration(months=0, days=0, seconds=600, nanoseconds=0)}, {'t1.symbol': 'AAPL', 'last_trade': '2024-02-19 11:55:00', 'next_trade': '2024-02-19 12:05:00', 'gap_duration': Duration(months=0, days=0, seconds=600, nanoseconds=0)}, {'t1.symbol': 'MSFT', 'last_trade': '2024-02-19 12:00:00', 'next_trade': '2024-02-19 12:10:00', 'gap_duration': Duration(months=0, days=0, seconds=600, nanoseconds=0)}, {'t1.symbol': 'AAPL', 'last_trade': '2024-02-19 12:05:00', 'next_trade': '2024-02-19 12:15:00', 'gap_duration': Duration(months=0, days=0, seconds=600, nanoseconds=0)}, {'t1.symbol': 'MSFT', 'last_trade': '2024-02-19 12:10:00', 'next_trade': '2024-02-19 12:20:00', 'gap_duration': Duration(months=0, days=0, seconds=600, nanoseconds=0)}, {'t1.symbol': 'AAPL', 'last_trade': '2024-02-19 12:15:00', 'next_trade': '2024-02-19 12:25:00', 'gap_duration': Duration(months=0, days=0, seconds=600, nanoseconds=0)}, {'t1.symbol': 'MSFT', 'last_trade': '2024-02-19 12:20:00', 'next_trade': '2024-02-19 12:30:00', 'gap_duration': Duration(months=0, days=0, seconds=600, nanoseconds=0)}, {'t1.symbol': 'AAPL', 'last_trade': '2024-02-19 12:25:00', 'next_trade': '2024-02-19 12:35:00', 'gap_duration': Duration(months=0, days=0, seconds=600, nanoseconds=0)}, {'t1.symbol': 'MSFT', 'last_trade': '2024-02-19 12:30:00', 'next_trade': '2024-02-19 12:40:00', 'gap_duration': Duration(months=0, days=0, seconds=600, nanoseconds=0)}, {'t1.symbol': 'AAPL', 'last_trade': '2024-02-19 12:35:00', 'next_trade': '2024-02-19 12:45:00', 'gap_duration': Duration(months=0, days=0, seconds=600, nanoseconds=0)}, {'t1.symbol': 'MSFT', 'last_trade': '2024-02-19 12:40:00', 'next_trade': '2024-02-19 12:50:00', 'gap_duration': Duration(months=0, days=0, seconds=600, nanoseconds=0)}, {'t1.symbol': 'AAPL', 'last_trade': '2024-02-19 12:45:00', 'next_trade': '2024-02-19 12:55:00', 'gap_duration': Duration(months=0, days=0, seconds=600, nanoseconds=0)}, {'t1.symbol': 'MSFT', 'last_trade': '2024-02-19 12:50:00', 'next_trade': '2024-02-19 13:00:00', 'gap_duration': Duration(months=0, days=0, seconds=600, nanoseconds=0)}, {'t1.symbol': 'AAPL', 'last_trade': '2024-02-19 12:55:00', 'next_trade': '2024-02-19 13:05:00', 'gap_duration': Duration(months=0, days=0, seconds=600, nanoseconds=0)}, {'t1.symbol': 'MSFT', 'last_trade': '2024-02-19 13:00:00', 'next_trade': '2024-02-19 13:10:00', 'gap_duration': Duration(months=0, days=0, seconds=600, nanoseconds=0)}, {'t1.symbol': 'AAPL', 'last_trade': '2024-02-19 13:05:00', 'next_trade': '2024-02-19 13:15:00', 'gap_duration': Duration(months=0, days=0, seconds=600, nanoseconds=0)}, {'t1.symbol': 'MSFT', 'last_trade': '2024-02-19 13:10:00', 'next_trade': '2024-02-19 13:20:00', 'gap_duration': Duration(months=0, days=0, seconds=600, nanoseconds=0)}, {'t1.symbol': 'AAPL', 'last_trade': '2024-02-19 13:15:00', 'next_trade': '2024-02-19 13:25:00', 'gap_duration': Duration(months=0, days=0, seconds=600, nanoseconds=0)}, {'t1.symbol': 'MSFT', 'last_trade': '2024-02-19 13:20:00', 'next_trade': '2024-02-19 13:30:00', 'gap_duration': Duration(months=0, days=0, seconds=600, nanoseconds=0)}, {'t1.symbol': 'AAPL', 'last_trade': '2024-02-19 13:25:00', 'next_trade': '2024-02-19 13:35:00', 'gap_duration': Duration(months=0, days=0, seconds=600, nanoseconds=0)}, {'t1.symbol': 'MSFT', 'last_trade': '2024-02-19 13:30:00', 'next_trade': '2024-02-19 13:40:00', 'gap_duration': Duration(months=0, days=0, seconds=600, nanoseconds=0)}, {'t1.symbol': 'AAPL', 'last_trade': '2024-02-19 13:35:00', 'next_trade': '2024-02-19 13:45:00', 'gap_duration': Duration(months=0, days=0, seconds=600, nanoseconds=0)}, {'t1.symbol': 'MSFT', 'last_trade': '2024-02-19 13:40:00', 'next_trade': '2024-02-19 13:50:00', 'gap_duration': Duration(months=0, days=0, seconds=600, nanoseconds=0)}, {'t1.symbol': 'AAPL', 'last_trade': '2024-02-19 13:45:00', 'next_trade': '2024-02-19 13:55:00', 'gap_duration': Duration(months=0, days=0, seconds=600, nanoseconds=0)}, {'t1.symbol': 'MSFT', 'last_trade': '2024-02-19 13:50:00', 'next_trade': '2024-02-19 14:00:00', 'gap_duration': Duration(months=0, days=0, seconds=600, nanoseconds=0)}, {'t1.symbol': 'AAPL', 'last_trade': '2024-02-19 13:55:00', 'next_trade': '2024-02-19 14:05:00', 'gap_duration': Duration(months=0, days=0, seconds=600, nanoseconds=0)}, {'t1.symbol': 'MSFT', 'last_trade': '2024-02-19 14:00:00', 'next_trade': '2024-02-19 14:10:00', 'gap_duration': Duration(months=0, days=0, seconds=600, nanoseconds=0)}, {'t1.symbol': 'AAPL', 'last_trade': '2024-02-19 14:05:00', 'next_trade': '2024-02-19 14:15:00', 'gap_duration': Duration(months=0, days=0, seconds=600, nanoseconds=0)}, {'t1.symbol': 'MSFT', 'last_trade': '2024-02-19 14:10:00', 'next_trade': '2024-02-19 14:20:00', 'gap_duration': Duration(months=0, days=0, seconds=600, nanoseconds=0)}, {'t1.symbol': 'AAPL', 'last_trade': '2024-02-19 14:15:00', 'next_trade': '2024-02-19 14:25:00', 'gap_duration': Duration(months=0, days=0, seconds=600, nanoseconds=0)}, {'t1.symbol': 'MSFT', 'last_trade': '2024-02-19 14:20:00', 'next_trade': '2024-02-19 14:30:00', 'gap_duration': Duration(months=0, days=0, seconds=600, nanoseconds=0)}, {'t1.symbol': 'AAPL', 'last_trade': '2024-02-19 14:25:00', 'next_trade': '2024-02-19 14:35:00', 'gap_duration': Duration(months=0, days=0, seconds=600, nanoseconds=0)}, {'t1.symbol': 'MSFT', 'last_trade': '2024-02-19 14:30:00', 'next_trade': '2024-02-19 14:40:00', 'gap_duration': Duration(months=0, days=0, seconds=600, nanoseconds=0)}, {'t1.symbol': 'AAPL', 'last_trade': '2024-02-19 14:35:00', 'next_trade': '2024-02-19 14:45:00', 'gap_duration': Duration(months=0, days=0, seconds=600, nanoseconds=0)}, {'t1.symbol': 'MSFT', 'last_trade': '2024-02-19 14:40:00', 'next_trade': '2024-02-19 14:50:00', 'gap_duration': Duration(months=0, days=0, seconds=600, nanoseconds=0)}, {'t1.symbol': 'AAPL', 'last_trade': '2024-02-19 14:45:00', 'next_trade': '2024-02-19 14:55:00', 'gap_duration': Duration(months=0, days=0, seconds=600, nanoseconds=0)}, {'t1.symbol': 'MSFT', 'last_trade': '2024-02-19 14:50:00', 'next_trade': '2024-02-19 15:00:00', 'gap_duration': Duration(months=0, days=0, seconds=600, nanoseconds=0)}, {'t1.symbol': 'AAPL', 'last_trade': '2024-02-19 14:55:00', 'next_trade': '2024-02-19 15:05:00', 'gap_duration': Duration(months=0, days=0, seconds=600, nanoseconds=0)}, {'t1.symbol': 'MSFT', 'last_trade': '2024-02-19 15:00:00', 'next_trade': '2024-02-19 15:10:00', 'gap_duration': Duration(months=0, days=0, seconds=600, nanoseconds=0)}, {'t1.symbol': 'AAPL', 'last_trade': '2024-02-19 15:05:00', 'next_trade': '2024-02-19 15:15:00', 'gap_duration': Duration(months=0, days=0, seconds=600, nanoseconds=0)}, {'t1.symbol': 'MSFT', 'last_trade': '2024-02-19 15:10:00', 'next_trade': '2024-02-19 15:20:00', 'gap_duration': Duration(months=0, days=0, seconds=600, nanoseconds=0)}, {'t1.symbol': 'AAPL', 'last_trade': '2024-02-19 15:15:00', 'next_trade': '2024-02-19 15:25:00', 'gap_duration': Duration(months=0, days=0, seconds=600, nanoseconds=0)}, {'t1.symbol': 'MSFT', 'last_trade': '2024-02-19 15:20:00', 'next_trade': '2024-02-19 15:30:00', 'gap_duration': Duration(months=0, days=0, seconds=600, nanoseconds=0)}, {'t1.symbol': 'AAPL', 'last_trade': '2024-02-19 15:25:00', 'next_trade': '2024-02-19 15:35:00', 'gap_duration': Duration(months=0, days=0, seconds=600, nanoseconds=0)}, {'t1.symbol': 'MSFT', 'last_trade': '2024-02-19 15:30:00', 'next_trade': '2024-02-19 15:40:00', 'gap_duration': Duration(months=0, days=0, seconds=600, nanoseconds=0)}, {'t1.symbol': 'AAPL', 'last_trade': '2024-02-19 15:35:00', 'next_trade': '2024-02-19 15:45:00', 'gap_duration': Duration(months=0, days=0, seconds=600, nanoseconds=0)}, {'t1.symbol': 'MSFT', 'last_trade': '2024-02-19 15:40:00', 'next_trade': '2024-02-19 15:50:00', 'gap_duration': Duration(months=0, days=0, seconds=600, nanoseconds=0)}, {'t1.symbol': 'AAPL', 'last_trade': '2024-02-19 15:45:00', 'next_trade': '2024-02-19 15:55:00', 'gap_duration': Duration(months=0, days=0, seconds=600, nanoseconds=0)}, {'t1.symbol': 'MSFT', 'last_trade': '2024-02-19 15:50:00', 'next_trade': '2024-02-19 16:00:00', 'gap_duration': Duration(months=0, days=0, seconds=600, nanoseconds=0)}, {'t1.symbol': 'AAPL', 'last_trade': '2024-02-19 15:55:00', 'next_trade': '2024-02-19 16:05:00', 'gap_duration': Duration(months=0, days=0, seconds=600, nanoseconds=0)}, {'t1.symbol': 'MSFT', 'last_trade': '2024-02-19 16:00:00', 'next_trade': '2024-02-19 16:10:00', 'gap_duration': Duration(months=0, days=0, seconds=600, nanoseconds=0)}, {'t1.symbol': 'AAPL', 'last_trade': '2024-02-19 16:05:00', 'next_trade': '2024-02-19 16:15:00', 'gap_duration': Duration(months=0, days=0, seconds=600, nanoseconds=0)}, {'t1.symbol': 'MSFT', 'last_trade': '2024-02-19 16:10:00', 'next_trade': '2024-02-19 16:20:00', 'gap_duration': Duration(months=0, days=0, seconds=600, nanoseconds=0)}, {'t1.symbol': 'AAPL', 'last_trade': '2024-02-19 16:15:00', 'next_trade': '2024-02-19 16:25:00', 'gap_duration': Duration(months=0, days=0, seconds=600, nanoseconds=0)}, {'t1.symbol': 'MSFT', 'last_trade': '2024-02-19 16:20:00', 'next_trade': '2024-02-19 16:30:00', 'gap_duration': Duration(months=0, days=0, seconds=600, nanoseconds=0)}, {'t1.symbol': 'AAPL', 'last_trade': '2024-02-19 16:25:00', 'next_trade': '2024-02-19 16:35:00', 'gap_duration': Duration(months=0, days=0, seconds=600, nanoseconds=0)}, {'t1.symbol': 'MSFT', 'last_trade': '2024-02-19 16:30:00', 'next_trade': '2024-02-19 16:40:00', 'gap_duration': Duration(months=0, days=0, seconds=600, nanoseconds=0)}, {'t1.symbol': 'AAPL', 'last_trade': '2024-02-19 16:35:00', 'next_trade': '2024-02-19 16:45:00', 'gap_duration': Duration(months=0, days=0, seconds=600, nanoseconds=0)}, {'t1.symbol': 'MSFT', 'last_trade': '2024-02-19 16:40:00', 'next_trade': '2024-02-19 16:50:00', 'gap_duration': Duration(months=0, days=0, seconds=600, nanoseconds=0)}, {'t1.symbol': 'AAPL', 'last_trade': '2024-02-19 16:45:00', 'next_trade': '2024-02-19 16:55:00', 'gap_duration': Duration(months=0, days=0, seconds=600, nanoseconds=0)}, {'t1.symbol': 'MSFT', 'last_trade': '2024-02-19 16:50:00', 'next_trade': '2024-02-19 17:00:00', 'gap_duration': Duration(months=0, days=0, seconds=600, nanoseconds=0)}, {'t1.symbol': 'AAPL', 'last_trade': '2024-02-19 16:55:00', 'next_trade': '2024-02-19 17:05:00', 'gap_duration': Duration(months=0, days=0, seconds=600, nanoseconds=0)}, {'t1.symbol': 'MSFT', 'last_trade': '2024-02-19 17:00:00', 'next_trade': '2024-02-19 17:10:00', 'gap_duration': Duration(months=0, days=0, seconds=600, nanoseconds=0)}, {'t1.symbol': 'AAPL', 'last_trade': '2024-02-19 17:05:00', 'next_trade': '2024-02-19 17:15:00', 'gap_duration': Duration(months=0, days=0, seconds=600, nanoseconds=0)}, {'t1.symbol': 'MSFT', 'last_trade': '2024-02-19 17:10:00', 'next_trade': '2024-02-19 17:20:00', 'gap_duration': Duration(months=0, days=0, seconds=600, nanoseconds=0)}, {'t1.symbol': 'AAPL', 'last_trade': '2024-02-19 17:15:00', 'next_trade': '2024-02-19 17:25:00', 'gap_duration': Duration(months=0, days=0, seconds=600, nanoseconds=0)}, {'t1.symbol': 'MSFT', 'last_trade': '2024-02-19 17:20:00', 'next_trade': '2024-02-19 17:30:00', 'gap_duration': Duration(months=0, days=0, seconds=600, nanoseconds=0)}, {'t1.symbol': 'AAPL', 'last_trade': '2024-02-19 17:25:00', 'next_trade': '2024-02-19 17:35:00', 'gap_duration': Duration(months=0, days=0, seconds=600, nanoseconds=0)}, {'t1.symbol': 'MSFT', 'last_trade': '2024-02-19 17:30:00', 'next_trade': '2024-02-19 17:40:00', 'gap_duration': Duration(months=0, days=0, seconds=600, nanoseconds=0)}, {'t1.symbol': 'AAPL', 'last_trade': '2024-02-19 17:35:00', 'next_trade': '2024-02-19 17:45:00', 'gap_duration': Duration(months=0, days=0, seconds=600, nanoseconds=0)}, {'t1.symbol': 'MSFT', 'last_trade': '2024-02-19 17:40:00', 'next_trade': '2024-02-19 17:50:00', 'gap_duration': Duration(months=0, days=0, seconds=600, nanoseconds=0)}, {'t1.symbol': 'AAPL', 'last_trade': '2024-02-19 17:45:00', 'next_trade': '2024-02-19 17:55:00', 'gap_duration': Duration(months=0, days=0, seconds=600, nanoseconds=0)}, {'t1.symbol': 'MSFT', 'last_trade': '2024-02-19 17:50:00', 'next_trade': '2024-02-19 18:00:00', 'gap_duration': Duration(months=0, days=0, seconds=600, nanoseconds=0)}, {'t1.symbol': 'AAPL', 'last_trade': '2024-02-19 17:55:00', 'next_trade': '2024-02-19 18:05:00', 'gap_duration': Duration(months=0, days=0, seconds=600, nanoseconds=0)}, {'t1.symbol': 'MSFT', 'last_trade': '2024-02-19 18:00:00', 'next_trade': '2024-02-19 18:10:00', 'gap_duration': Duration(months=0, days=0, seconds=600, nanoseconds=0)}, {'t1.symbol': 'AAPL', 'last_trade': '2024-02-19 18:05:00', 'next_trade': '2024-02-19 18:15:00', 'gap_duration': Duration(months=0, days=0, seconds=600, nanoseconds=0)}]\n",
            " Unusual Price Jumps: []\n"
          ]
        }
      ]
    },
    {
      "cell_type": "code",
      "source": [
        "import matplotlib.pyplot as plt\n",
        "import pandas as pd\n",
        "from datetime import datetime\n",
        "\n",
        "# Convert missing trades data into a DataFrame\n",
        "missing_trades_df = pd.DataFrame(missing_trades)\n",
        "\n",
        "if not missing_trades_df.empty:\n",
        "    missing_trades_df[\"last_trade\"] = pd.to_datetime(missing_trades_df[\"last_trade\"])\n",
        "    missing_trades_df[\"next_trade\"] = pd.to_datetime(missing_trades_df[\"next_trade\"])\n",
        "    missing_trades_df[\"gap_duration\"] = missing_trades_df[\"gap_duration\"].apply(lambda x: x[2])\n",
        "\n",
        "    # Plot missing trades as gaps\n",
        "    plt.figure(figsize=(10, 5))\n",
        "    plt.scatter(missing_trades_df[\"last_trade\"], missing_trades_df[\"gap_duration\"], label=\"Last Trade Before Gap\", color='blue')\n",
        "    plt.scatter(missing_trades_df[\"next_trade\"], missing_trades_df[\"gap_duration\"], label=\"First Trade After Gap\", color='red')\n",
        "    plt.xlabel(\"Timestamp\")\n",
        "    plt.ylabel(\"Gap Duration (Minutes)\")\n",
        "    plt.title(\"Trade Gaps > 4 Minutes\")\n",
        "    plt.legend()\n",
        "    plt.xticks(rotation=45)\n",
        "    plt.show()\n",
        "\n",
        "else:\n",
        "    print(\"No missing trades detected.\")\n",
        "\n",
        "# Convert price jumps data into a DataFrame\n",
        "price_jumps_df = pd.DataFrame(price_jumps)\n",
        "\n",
        "if not price_jumps_df.empty:\n",
        "    price_jumps_df[\"timestamp\"] = pd.to_datetime(price_jumps_df[\"timestamp\"])\n",
        "    price_jumps_df[\"next_timestamp\"] = pd.to_datetime(price_jumps_df[\"next_timestamp\"])\n",
        "\n",
        "    # Plot price changes\n",
        "    plt.figure(figsize=(10, 5))\n",
        "    plt.plot(price_jumps_df[\"timestamp\"], price_jumps_df[\"price\"], label=\"Price Before Jump\", marker=\"o\", linestyle=\"-\")\n",
        "    plt.scatter(price_jumps_df[\"next_timestamp\"], price_jumps_df[\"price_change\"], label=\"Price Jump\", color=\"red\")\n",
        "    plt.xlabel(\"Timestamp\")\n",
        "    plt.ylabel(\"Price\")\n",
        "    plt.title(\"Unusual Price Jumps (> $5)\")\n",
        "    plt.legend()\n",
        "    plt.xticks(rotation=45)\n",
        "    plt.show()\n",
        "\n",
        "else:\n",
        "    print(\"No unusual price jumps detected.\")\n"
      ],
      "metadata": {
        "colab": {
          "base_uri": "https://localhost:8080/",
          "height": 544
        },
        "id": "5wOTZeUD1wES",
        "outputId": "06614438-f035-481b-de51-a12008be551d"
      },
      "execution_count": 61,
      "outputs": [
        {
          "output_type": "display_data",
          "data": {
            "text/plain": [
              "<Figure size 1000x500 with 1 Axes>"
            ],
            "image/png": "[encoded data removed]"
          },
          "metadata": {}
        },
        {
          "output_type": "stream",
          "name": "stdout",
          "text": [
            "No unusual price jumps detected.\n"
          ]
        }
      ]
    },
    {
      "cell_type": "code",
      "source": [
        "def run_query(tx, query):\n",
        "    result = tx.run(query)\n",
        "    return [record.data() for record in result]\n",
        "\n",
        "volume_deviation_query = \"\"\"\n",
        "MATCH (t:Trade)\n",
        "WHERE t.volume < 500 OR t.volume > 2000\n",
        "RETURN t.symbol, t.timestamp, t.volume;\n",
        "\"\"\"\n",
        "\n",
        "price_deviation_query = \"\"\"\n",
        "MATCH (t1:Trade)-[:NEXT_TRADE]->(t2:Trade)\n",
        "WHERE abs(t2.price - t1.price) > 3.0\n",
        "RETURN t1.symbol, t1.timestamp AS trade_time, t1.price, t2.timestamp AS next_trade_time, t2.price, abs(t2.price - t1.price) AS price_change;\n",
        "\"\"\"\n",
        "\n",
        "with driver.session() as session:\n",
        "    volume_deviations = session.execute_read(run_query, volume_deviation_query)\n",
        "    price_deviations = session.execute_read(run_query, price_deviation_query)\n",
        "\n",
        "print(\"Volume Deviations:\", volume_deviations)\n",
        "print(\"Price Deviations:\", price_deviations)\n",
        "\n"
      ],
      "metadata": {
        "colab": {
          "base_uri": "https://localhost:8080/"
        },
        "id": "nRcFLII84JGz",
        "outputId": "ec8fcc57-9f9d-4ed1-fad6-a71b461b3e71"
      },
      "execution_count": 62,
      "outputs": [
        {
          "output_type": "stream",
          "name": "stdout",
          "text": [
            "Volume Deviations: [{'t.symbol': 'AAPL', 't.timestamp': '2024-02-19 10:00:00', 't.volume': 100}, {'t.symbol': 'AAPL', 't.timestamp': '2024-02-19 10:05:00', 't.volume': 150}, {'t.symbol': 'MSFT', 't.timestamp': '2024-02-19 10:10:00', 't.volume': 200}, {'t.symbol': 'AAPL', 't.timestamp': '2024-02-19 10:15:00', 't.volume': 120}, {'t.symbol': 'MSFT', 't.timestamp': '2024-02-19 10:20:00', 't.volume': 180}, {'t.symbol': 'AAPL', 't.timestamp': '2024-02-19 10:25:00', 't.volume': 130}, {'t.symbol': 'MSFT', 't.timestamp': '2024-02-19 10:30:00', 't.volume': 190}, {'t.symbol': 'AAPL', 't.timestamp': '2024-02-19 10:35:00', 't.volume': 110}, {'t.symbol': 'MSFT', 't.timestamp': '2024-02-19 10:40:00', 't.volume': 170}, {'t.symbol': 'AAPL', 't.timestamp': '2024-02-19 10:45:00', 't.volume': 160}, {'t.symbol': 'MSFT', 't.timestamp': '2024-02-19 10:50:00', 't.volume': 210}, {'t.symbol': 'AAPL', 't.timestamp': '2024-02-19 10:55:00', 't.volume': 140}, {'t.symbol': 'MSFT', 't.timestamp': '2024-02-19 11:00:00', 't.volume': 200}, {'t.symbol': 'AAPL', 't.timestamp': '2024-02-19 11:05:00', 't.volume': 150}, {'t.symbol': 'MSFT', 't.timestamp': '2024-02-19 11:10:00', 't.volume': 220}, {'t.symbol': 'AAPL', 't.timestamp': '2024-02-19 11:15:00', 't.volume': 130}, {'t.symbol': 'MSFT', 't.timestamp': '2024-02-19 11:20:00', 't.volume': 210}, {'t.symbol': 'AAPL', 't.timestamp': '2024-02-19 11:25:00', 't.volume': 140}, {'t.symbol': 'MSFT', 't.timestamp': '2024-02-19 11:30:00', 't.volume': 190}, {'t.symbol': 'AAPL', 't.timestamp': '2024-02-19 11:35:00', 't.volume': 160}, {'t.symbol': 'MSFT', 't.timestamp': '2024-02-19 11:40:00', 't.volume': 200}, {'t.symbol': 'AAPL', 't.timestamp': '2024-02-19 11:45:00', 't.volume': 150}, {'t.symbol': 'MSFT', 't.timestamp': '2024-02-19 11:50:00', 't.volume': 180}, {'t.symbol': 'AAPL', 't.timestamp': '2024-02-19 11:55:00', 't.volume': 140}, {'t.symbol': 'MSFT', 't.timestamp': '2024-02-19 12:00:00', 't.volume': 210}, {'t.symbol': 'AAPL', 't.timestamp': '2024-02-19 12:05:00', 't.volume': 130}, {'t.symbol': 'MSFT', 't.timestamp': '2024-02-19 12:10:00', 't.volume': 220}, {'t.symbol': 'AAPL', 't.timestamp': '2024-02-19 12:15:00', 't.volume': 150}, {'t.symbol': 'MSFT', 't.timestamp': '2024-02-19 12:20:00', 't.volume': 190}, {'t.symbol': 'AAPL', 't.timestamp': '2024-02-19 12:25:00', 't.volume': 160}, {'t.symbol': 'MSFT', 't.timestamp': '2024-02-19 12:30:00', 't.volume': 180}, {'t.symbol': 'AAPL', 't.timestamp': '2024-02-19 12:35:00', 't.volume': 140}, {'t.symbol': 'MSFT', 't.timestamp': '2024-02-19 12:40:00', 't.volume': 200}, {'t.symbol': 'AAPL', 't.timestamp': '2024-02-19 12:45:00', 't.volume': 150}, {'t.symbol': 'MSFT', 't.timestamp': '2024-02-19 12:50:00', 't.volume': 210}, {'t.symbol': 'AAPL', 't.timestamp': '2024-02-19 12:55:00', 't.volume': 130}, {'t.symbol': 'MSFT', 't.timestamp': '2024-02-19 13:00:00', 't.volume': 190}, {'t.symbol': 'AAPL', 't.timestamp': '2024-02-19 13:05:00', 't.volume': 160}, {'t.symbol': 'MSFT', 't.timestamp': '2024-02-19 13:10:00', 't.volume': 220}, {'t.symbol': 'AAPL', 't.timestamp': '2024-02-19 13:15:00', 't.volume': 140}, {'t.symbol': 'MSFT', 't.timestamp': '2024-02-19 13:20:00', 't.volume': 200}, {'t.symbol': 'AAPL', 't.timestamp': '2024-02-19 13:25:00', 't.volume': 150}, {'t.symbol': 'MSFT', 't.timestamp': '2024-02-19 13:30:00', 't.volume': 210}, {'t.symbol': 'AAPL', 't.timestamp': '2024-02-19 13:35:00', 't.volume': 160}, {'t.symbol': 'MSFT', 't.timestamp': '2024-02-19 13:40:00', 't.volume': 190}, {'t.symbol': 'AAPL', 't.timestamp': '2024-02-19 13:45:00', 't.volume': 140}, {'t.symbol': 'MSFT', 't.timestamp': '2024-02-19 13:50:00', 't.volume': 220}, {'t.symbol': 'AAPL', 't.timestamp': '2024-02-19 13:55:00', 't.volume': 150}, {'t.symbol': 'MSFT', 't.timestamp': '2024-02-19 14:00:00', 't.volume': 200}, {'t.symbol': 'AAPL', 't.timestamp': '2024-02-19 14:05:00', 't.volume': 130}, {'t.symbol': 'MSFT', 't.timestamp': '2024-02-19 14:10:00', 't.volume': 210}, {'t.symbol': 'AAPL', 't.timestamp': '2024-02-19 14:15:00', 't.volume': 140}, {'t.symbol': 'MSFT', 't.timestamp': '2024-02-19 14:20:00', 't.volume': 190}, {'t.symbol': 'AAPL', 't.timestamp': '2024-02-19 14:25:00', 't.volume': 160}, {'t.symbol': 'MSFT', 't.timestamp': '2024-02-19 14:30:00', 't.volume': 220}, {'t.symbol': 'AAPL', 't.timestamp': '2024-02-19 14:35:00', 't.volume': 150}, {'t.symbol': 'MSFT', 't.timestamp': '2024-02-19 14:40:00', 't.volume': 210}, {'t.symbol': 'AAPL', 't.timestamp': '2024-02-19 14:45:00', 't.volume': 140}, {'t.symbol': 'MSFT', 't.timestamp': '2024-02-19 14:50:00', 't.volume': 200}, {'t.symbol': 'AAPL', 't.timestamp': '2024-02-19 14:55:00', 't.volume': 160}, {'t.symbol': 'MSFT', 't.timestamp': '2024-02-19 15:00:00', 't.volume': 190}, {'t.symbol': 'AAPL', 't.timestamp': '2024-02-19 15:05:00', 't.volume': 150}, {'t.symbol': 'MSFT', 't.timestamp': '2024-02-19 15:10:00', 't.volume': 210}, {'t.symbol': 'AAPL', 't.timestamp': '2024-02-19 15:15:00', 't.volume': 140}, {'t.symbol': 'MSFT', 't.timestamp': '2024-02-19 15:20:00', 't.volume': 200}, {'t.symbol': 'AAPL', 't.timestamp': '2024-02-19 15:25:00', 't.volume': 160}, {'t.symbol': 'MSFT', 't.timestamp': '2024-02-19 15:30:00', 't.volume': 220}, {'t.symbol': 'AAPL', 't.timestamp': '2024-02-19 15:35:00', 't.volume': 150}, {'t.symbol': 'MSFT', 't.timestamp': '2024-02-19 15:40:00', 't.volume': 210}, {'t.symbol': 'AAPL', 't.timestamp': '2024-02-19 15:45:00', 't.volume': 140}, {'t.symbol': 'MSFT', 't.timestamp': '2024-02-19 15:50:00', 't.volume': 200}, {'t.symbol': 'AAPL', 't.timestamp': '2024-02-19 15:55:00', 't.volume': 160}, {'t.symbol': 'MSFT', 't.timestamp': '2024-02-19 16:00:00', 't.volume': 190}, {'t.symbol': 'AAPL', 't.timestamp': '2024-02-19 16:05:00', 't.volume': 150}, {'t.symbol': 'MSFT', 't.timestamp': '2024-02-19 16:10:00', 't.volume': 210}, {'t.symbol': 'AAPL', 't.timestamp': '2024-02-19 16:15:00', 't.volume': 140}, {'t.symbol': 'MSFT', 't.timestamp': '2024-02-19 16:20:00', 't.volume': 200}, {'t.symbol': 'AAPL', 't.timestamp': '2024-02-19 16:25:00', 't.volume': 160}, {'t.symbol': 'MSFT', 't.timestamp': '2024-02-19 16:30:00', 't.volume': 220}, {'t.symbol': 'AAPL', 't.timestamp': '2024-02-19 16:35:00', 't.volume': 150}, {'t.symbol': 'MSFT', 't.timestamp': '2024-02-19 16:40:00', 't.volume': 210}, {'t.symbol': 'AAPL', 't.timestamp': '2024-02-19 16:45:00', 't.volume': 140}, {'t.symbol': 'MSFT', 't.timestamp': '2024-02-19 16:50:00', 't.volume': 200}, {'t.symbol': 'AAPL', 't.timestamp': '2024-02-19 16:55:00', 't.volume': 160}, {'t.symbol': 'MSFT', 't.timestamp': '2024-02-19 17:00:00', 't.volume': 190}, {'t.symbol': 'AAPL', 't.timestamp': '2024-02-19 17:05:00', 't.volume': 150}, {'t.symbol': 'MSFT', 't.timestamp': '2024-02-19 17:10:00', 't.volume': 210}, {'t.symbol': 'AAPL', 't.timestamp': '2024-02-19 17:15:00', 't.volume': 140}, {'t.symbol': 'MSFT', 't.timestamp': '2024-02-19 17:20:00', 't.volume': 200}, {'t.symbol': 'AAPL', 't.timestamp': '2024-02-19 17:25:00', 't.volume': 160}, {'t.symbol': 'MSFT', 't.timestamp': '2024-02-19 17:30:00', 't.volume': 220}, {'t.symbol': 'AAPL', 't.timestamp': '2024-02-19 17:35:00', 't.volume': 150}, {'t.symbol': 'MSFT', 't.timestamp': '2024-02-19 17:40:00', 't.volume': 210}, {'t.symbol': 'AAPL', 't.timestamp': '2024-02-19 17:45:00', 't.volume': 140}, {'t.symbol': 'MSFT', 't.timestamp': '2024-02-19 17:50:00', 't.volume': 200}, {'t.symbol': 'AAPL', 't.timestamp': '2024-02-19 17:55:00', 't.volume': 160}, {'t.symbol': 'MSFT', 't.timestamp': '2024-02-19 18:00:00', 't.volume': 190}, {'t.symbol': 'AAPL', 't.timestamp': '2024-02-19 18:05:00', 't.volume': 150}, {'t.symbol': 'MSFT', 't.timestamp': '2024-02-19 18:10:00', 't.volume': 210}, {'t.symbol': 'AAPL', 't.timestamp': '2024-02-19 18:15:00', 't.volume': 140}]\n",
            "Price Deviations: []\n"
          ]
        }
      ]
    },
    {
      "cell_type": "code",
      "source": [],
      "metadata": {
        "id": "TbHI_nwP4X5M"
      },
      "execution_count": 58,
      "outputs": []
    }
  ]
}