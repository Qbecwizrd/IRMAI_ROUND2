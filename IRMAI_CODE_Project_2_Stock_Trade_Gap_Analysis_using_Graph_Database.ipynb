{
  "nbformat": 4,
  "nbformat_minor": 0,
  "metadata": {
    "colab": {
      "provenance": []
    },
    "kernelspec": {
      "name": "python3",
      "display_name": "Python 3"
    },
    "language_info": {
      "name": "python"
    }
  },
  "cells": [
    {
      "cell_type": "code",
      "execution_count": 1,
      "metadata": {
        "id": "IRQyGQI8rjx0"
      },
      "outputs": [],
      "source": [
        "from google.colab import drive"
      ]
    },
    {
      "cell_type": "code",
      "source": [
        "from google.colab import drive\n",
        "drive.mount('/content/drive')\n"
      ],
      "metadata": {
        "colab": {
          "base_uri": "https://localhost:8080/"
        },
        "id": "D80PogE6sMLg",
        "outputId": "3a6d5c86-1c90-4c95-b234-b86b6571d4a4"
      },
      "execution_count": 5,
      "outputs": [
        {
          "output_type": "stream",
          "name": "stdout",
          "text": [
            "Mounted at /content/drive\n"
          ]
        }
      ]
    },
    {
      "cell_type": "code",
      "source": [
        "import pandas as pd\n",
        "data=pd.read_csv('/content/drive/MyDrive/IRMAI/stock.csv')"
      ],
      "metadata": {
        "id": "cAlWCu6tsasd"
      },
      "execution_count": 6,
      "outputs": []
    },
    {
      "cell_type": "code",
      "source": [
        "data.head()"
      ],
      "metadata": {
        "colab": {
          "base_uri": "https://localhost:8080/",
          "height": 206
        },
        "id": "N5_-UDvksx5x",
        "outputId": "c8ddc681-be44-4f20-b46a-e5f52b58ca89"
      },
      "execution_count": 7,
      "outputs": [
        {
          "output_type": "execute_result",
          "data": {
            "text/plain": [
              "   Trade_ID            Timestamp Stock_Symbol  Price  Volume\n",
              "0         1  2024-02-19 10:00:00         AAPL  150.5     100\n",
              "1         2  2024-02-19 10:05:00         AAPL  151.0     150\n",
              "2         3  2024-02-19 10:10:00         MSFT  300.2     200\n",
              "3         4  2024-02-19 10:15:00         AAPL  152.0     120\n",
              "4         5  2024-02-19 10:20:00         MSFT  299.8     180"
            ],
            "text/html": [
              "\n",
              "  <div id=\"df-39b8b188-4110-4329-8b12-9f2320260d7b\" class=\"colab-df-container\">\n",
              "    <div>\n",
              "<style scoped>\n",
              "    .dataframe tbody tr th:only-of-type {\n",
              "        vertical-align: middle;\n",
              "    }\n",
              "\n",
              "    .dataframe tbody tr th {\n",
              "        vertical-align: top;\n",
              "    }\n",
              "\n",
              "    .dataframe thead th {\n",
              "        text-align: right;\n",
              "    }\n",
              "</style>\n",
              "<table border=\"1\" class=\"dataframe\">\n",
              "  <thead>\n",
              "    <tr style=\"text-align: right;\">\n",
              "      <th></th>\n",
              "      <th>Trade_ID</th>\n",
              "      <th>Timestamp</th>\n",
              "      <th>Stock_Symbol</th>\n",
              "      <th>Price</th>\n",
              "      <th>Volume</th>\n",
              "    </tr>\n",
              "  </thead>\n",
              "  <tbody>\n",
              "    <tr>\n",
              "      <th>0</th>\n",
              "      <td>1</td>\n",
              "      <td>2024-02-19 10:00:00</td>\n",
              "      <td>AAPL</td>\n",
              "      <td>150.5</td>\n",
              "      <td>100</td>\n",
              "    </tr>\n",
              "    <tr>\n",
              "      <th>1</th>\n",
              "      <td>2</td>\n",
              "      <td>2024-02-19 10:05:00</td>\n",
              "      <td>AAPL</td>\n",
              "      <td>151.0</td>\n",
              "      <td>150</td>\n",
              "    </tr>\n",
              "    <tr>\n",
              "      <th>2</th>\n",
              "      <td>3</td>\n",
              "      <td>2024-02-19 10:10:00</td>\n",
              "      <td>MSFT</td>\n",
              "      <td>300.2</td>\n",
              "      <td>200</td>\n",
              "    </tr>\n",
              "    <tr>\n",
              "      <th>3</th>\n",
              "      <td>4</td>\n",
              "      <td>2024-02-19 10:15:00</td>\n",
              "      <td>AAPL</td>\n",
              "      <td>152.0</td>\n",
              "      <td>120</td>\n",
              "    </tr>\n",
              "    <tr>\n",
              "      <th>4</th>\n",
              "      <td>5</td>\n",
              "      <td>2024-02-19 10:20:00</td>\n",
              "      <td>MSFT</td>\n",
              "      <td>299.8</td>\n",
              "      <td>180</td>\n",
              "    </tr>\n",
              "  </tbody>\n",
              "</table>\n",
              "</div>\n",
              "    <div class=\"colab-df-buttons\">\n",
              "\n",
              "  <div class=\"colab-df-container\">\n",
              "    <button class=\"colab-df-convert\" onclick=\"convertToInteractive('df-39b8b188-4110-4329-8b12-9f2320260d7b')\"\n",
              "            title=\"Convert this dataframe to an interactive table.\"\n",
              "            style=\"display:none;\">\n",
              "\n",
              "  <svg xmlns=\"http://www.w3.org/2000/svg\" height=\"24px\" viewBox=\"0 -960 960 960\">\n",
              "    <path d=\"M120-120v-720h720v720H120Zm60-500h600v-160H180v160Zm220 220h160v-160H400v160Zm0 220h160v-160H400v160ZM180-400h160v-160H180v160Zm440 0h160v-160H620v160ZM180-180h160v-160H180v160Zm440 0h160v-160H620v160Z\"/>\n",
              "  </svg>\n",
              "    </button>\n",
              "\n",
              "  <style>\n",
              "    .colab-df-container {\n",
              "      display:flex;\n",
              "      gap: 12px;\n",
              "    }\n",
              "\n",
              "    .colab-df-convert {\n",
              "      background-color: #E8F0FE;\n",
              "      border: none;\n",
              "      border-radius: 50%;\n",
              "      cursor: pointer;\n",
              "      display: none;\n",
              "      fill: #1967D2;\n",
              "      height: 32px;\n",
              "      padding: 0 0 0 0;\n",
              "      width: 32px;\n",
              "    }\n",
              "\n",
              "    .colab-df-convert:hover {\n",
              "      background-color: #E2EBFA;\n",
              "      box-shadow: 0px 1px 2px rgba(60, 64, 67, 0.3), 0px 1px 3px 1px rgba(60, 64, 67, 0.15);\n",
              "      fill: #174EA6;\n",
              "    }\n",
              "\n",
              "    .colab-df-buttons div {\n",
              "      margin-bottom: 4px;\n",
              "    }\n",
              "\n",
              "    [theme=dark] .colab-df-convert {\n",
              "      background-color: #3B4455;\n",
              "      fill: #D2E3FC;\n",
              "    }\n",
              "\n",
              "    [theme=dark] .colab-df-convert:hover {\n",
              "      background-color: #434B5C;\n",
              "      box-shadow: 0px 1px 3px 1px rgba(0, 0, 0, 0.15);\n",
              "      filter: drop-shadow(0px 1px 2px rgba(0, 0, 0, 0.3));\n",
              "      fill: #FFFFFF;\n",
              "    }\n",
              "  </style>\n",
              "\n",
              "    <script>\n",
              "      const buttonEl =\n",
              "        document.querySelector('#df-39b8b188-4110-4329-8b12-9f2320260d7b button.colab-df-convert');\n",
              "      buttonEl.style.display =\n",
              "        google.colab.kernel.accessAllowed ? 'block' : 'none';\n",
              "\n",
              "      async function convertToInteractive(key) {\n",
              "        const element = document.querySelector('#df-39b8b188-4110-4329-8b12-9f2320260d7b');\n",
              "        const dataTable =\n",
              "          await google.colab.kernel.invokeFunction('convertToInteractive',\n",
              "                                                    [key], {});\n",
              "        if (!dataTable) return;\n",
              "\n",
              "        const docLinkHtml = 'Like what you see? Visit the ' +\n",
              "          '<a target=\"_blank\" href=https://colab.research.google.com/notebooks/data_table.ipynb>data table notebook</a>'\n",
              "          + ' to learn more about interactive tables.';\n",
              "        element.innerHTML = '';\n",
              "        dataTable['output_type'] = 'display_data';\n",
              "        await google.colab.output.renderOutput(dataTable, element);\n",
              "        const docLink = document.createElement('div');\n",
              "        docLink.innerHTML = docLinkHtml;\n",
              "        element.appendChild(docLink);\n",
              "      }\n",
              "    </script>\n",
              "  </div>\n",
              "\n",
              "\n",
              "<div id=\"df-66d2c715-cfcf-4cf0-aa15-48c7a5f4e256\">\n",
              "  <button class=\"colab-df-quickchart\" onclick=\"quickchart('df-66d2c715-cfcf-4cf0-aa15-48c7a5f4e256')\"\n",
              "            title=\"Suggest charts\"\n",
              "            style=\"display:none;\">\n",
              "\n",
              "<svg xmlns=\"http://www.w3.org/2000/svg\" height=\"24px\"viewBox=\"0 0 24 24\"\n",
              "     width=\"24px\">\n",
              "    <g>\n",
              "        <path d=\"M19 3H5c-1.1 0-2 .9-2 2v14c0 1.1.9 2 2 2h14c1.1 0 2-.9 2-2V5c0-1.1-.9-2-2-2zM9 17H7v-7h2v7zm4 0h-2V7h2v10zm4 0h-2v-4h2v4z\"/>\n",
              "    </g>\n",
              "</svg>\n",
              "  </button>\n",
              "\n",
              "<style>\n",
              "  .colab-df-quickchart {\n",
              "      --bg-color: #E8F0FE;\n",
              "      --fill-color: #1967D2;\n",
              "      --hover-bg-color: #E2EBFA;\n",
              "      --hover-fill-color: #174EA6;\n",
              "      --disabled-fill-color: #AAA;\n",
              "      --disabled-bg-color: #DDD;\n",
              "  }\n",
              "\n",
              "  [theme=dark] .colab-df-quickchart {\n",
              "      --bg-color: #3B4455;\n",
              "      --fill-color: #D2E3FC;\n",
              "      --hover-bg-color: #434B5C;\n",
              "      --hover-fill-color: #FFFFFF;\n",
              "      --disabled-bg-color: #3B4455;\n",
              "      --disabled-fill-color: #666;\n",
              "  }\n",
              "\n",
              "  .colab-df-quickchart {\n",
              "    background-color: var(--bg-color);\n",
              "    border: none;\n",
              "    border-radius: 50%;\n",
              "    cursor: pointer;\n",
              "    display: none;\n",
              "    fill: var(--fill-color);\n",
              "    height: 32px;\n",
              "    padding: 0;\n",
              "    width: 32px;\n",
              "  }\n",
              "\n",
              "  .colab-df-quickchart:hover {\n",
              "    background-color: var(--hover-bg-color);\n",
              "    box-shadow: 0 1px 2px rgba(60, 64, 67, 0.3), 0 1px 3px 1px rgba(60, 64, 67, 0.15);\n",
              "    fill: var(--button-hover-fill-color);\n",
              "  }\n",
              "\n",
              "  .colab-df-quickchart-complete:disabled,\n",
              "  .colab-df-quickchart-complete:disabled:hover {\n",
              "    background-color: var(--disabled-bg-color);\n",
              "    fill: var(--disabled-fill-color);\n",
              "    box-shadow: none;\n",
              "  }\n",
              "\n",
              "  .colab-df-spinner {\n",
              "    border: 2px solid var(--fill-color);\n",
              "    border-color: transparent;\n",
              "    border-bottom-color: var(--fill-color);\n",
              "    animation:\n",
              "      spin 1s steps(1) infinite;\n",
              "  }\n",
              "\n",
              "  @keyframes spin {\n",
              "    0% {\n",
              "      border-color: transparent;\n",
              "      border-bottom-color: var(--fill-color);\n",
              "      border-left-color: var(--fill-color);\n",
              "    }\n",
              "    20% {\n",
              "      border-color: transparent;\n",
              "      border-left-color: var(--fill-color);\n",
              "      border-top-color: var(--fill-color);\n",
              "    }\n",
              "    30% {\n",
              "      border-color: transparent;\n",
              "      border-left-color: var(--fill-color);\n",
              "      border-top-color: var(--fill-color);\n",
              "      border-right-color: var(--fill-color);\n",
              "    }\n",
              "    40% {\n",
              "      border-color: transparent;\n",
              "      border-right-color: var(--fill-color);\n",
              "      border-top-color: var(--fill-color);\n",
              "    }\n",
              "    60% {\n",
              "      border-color: transparent;\n",
              "      border-right-color: var(--fill-color);\n",
              "    }\n",
              "    80% {\n",
              "      border-color: transparent;\n",
              "      border-right-color: var(--fill-color);\n",
              "      border-bottom-color: var(--fill-color);\n",
              "    }\n",
              "    90% {\n",
              "      border-color: transparent;\n",
              "      border-bottom-color: var(--fill-color);\n",
              "    }\n",
              "  }\n",
              "</style>\n",
              "\n",
              "  <script>\n",
              "    async function quickchart(key) {\n",
              "      const quickchartButtonEl =\n",
              "        document.querySelector('#' + key + ' button');\n",
              "      quickchartButtonEl.disabled = true;  // To prevent multiple clicks.\n",
              "      quickchartButtonEl.classList.add('colab-df-spinner');\n",
              "      try {\n",
              "        const charts = await google.colab.kernel.invokeFunction(\n",
              "            'suggestCharts', [key], {});\n",
              "      } catch (error) {\n",
              "        console.error('Error during call to suggestCharts:', error);\n",
              "      }\n",
              "      quickchartButtonEl.classList.remove('colab-df-spinner');\n",
              "      quickchartButtonEl.classList.add('colab-df-quickchart-complete');\n",
              "    }\n",
              "    (() => {\n",
              "      let quickchartButtonEl =\n",
              "        document.querySelector('#df-66d2c715-cfcf-4cf0-aa15-48c7a5f4e256 button');\n",
              "      quickchartButtonEl.style.display =\n",
              "        google.colab.kernel.accessAllowed ? 'block' : 'none';\n",
              "    })();\n",
              "  </script>\n",
              "</div>\n",
              "\n",
              "    </div>\n",
              "  </div>\n"
            ],
            "application/vnd.google.colaboratory.intrinsic+json": {
              "type": "dataframe",
              "variable_name": "data",
              "summary": "{\n  \"name\": \"data\",\n  \"rows\": 5,\n  \"fields\": [\n    {\n      \"column\": \"Trade_ID\",\n      \"properties\": {\n        \"dtype\": \"number\",\n        \"std\": 1,\n        \"min\": 1,\n        \"max\": 5,\n        \"num_unique_values\": 5,\n        \"samples\": [\n          2,\n          5,\n          3\n        ],\n        \"semantic_type\": \"\",\n        \"description\": \"\"\n      }\n    },\n    {\n      \"column\": \"Timestamp\",\n      \"properties\": {\n        \"dtype\": \"object\",\n        \"num_unique_values\": 5,\n        \"samples\": [\n          \"2024-02-19 10:05:00\",\n          \"2024-02-19 10:20:00\",\n          \"2024-02-19 10:10:00\"\n        ],\n        \"semantic_type\": \"\",\n        \"description\": \"\"\n      }\n    },\n    {\n      \"column\": \"Stock_Symbol\",\n      \"properties\": {\n        \"dtype\": \"category\",\n        \"num_unique_values\": 2,\n        \"samples\": [\n          \"MSFT\",\n          \"AAPL\"\n        ],\n        \"semantic_type\": \"\",\n        \"description\": \"\"\n      }\n    },\n    {\n      \"column\": \"Price\",\n      \"properties\": {\n        \"dtype\": \"number\",\n        \"std\": 81.52128556395563,\n        \"min\": 150.5,\n        \"max\": 300.2,\n        \"num_unique_values\": 5,\n        \"samples\": [\n          151.0,\n          299.8\n        ],\n        \"semantic_type\": \"\",\n        \"description\": \"\"\n      }\n    },\n    {\n      \"column\": \"Volume\",\n      \"properties\": {\n        \"dtype\": \"number\",\n        \"std\": 41,\n        \"min\": 100,\n        \"max\": 200,\n        \"num_unique_values\": 5,\n        \"samples\": [\n          150,\n          180\n        ],\n        \"semantic_type\": \"\",\n        \"description\": \"\"\n      }\n    }\n  ]\n}"
            }
          },
          "metadata": {},
          "execution_count": 7
        }
      ]
    },
    {
      "cell_type": "code",
      "source": [
        "!pip install neo4j pandas\n"
      ],
      "metadata": {
        "colab": {
          "base_uri": "https://localhost:8080/"
        },
        "id": "lq1Kf_BwtK6t",
        "outputId": "9a5a5b77-f7ef-4264-d435-74a8376ab700"
      },
      "execution_count": 8,
      "outputs": [
        {
          "output_type": "stream",
          "name": "stdout",
          "text": [
            "Collecting neo4j\n",
            "  Downloading neo4j-5.28.1-py3-none-any.whl.metadata (5.9 kB)\n",
            "Requirement already satisfied: pandas in /usr/local/lib/python3.11/dist-packages (2.2.2)\n",
            "Requirement already satisfied: pytz in /usr/local/lib/python3.11/dist-packages (from neo4j) (2025.1)\n",
            "Requirement already satisfied: numpy>=1.23.2 in /usr/local/lib/python3.11/dist-packages (from pandas) (1.26.4)\n",
            "Requirement already satisfied: python-dateutil>=2.8.2 in /usr/local/lib/python3.11/dist-packages (from pandas) (2.8.2)\n",
            "Requirement already satisfied: tzdata>=2022.7 in /usr/local/lib/python3.11/dist-packages (from pandas) (2025.1)\n",
            "Requirement already satisfied: six>=1.5 in /usr/local/lib/python3.11/dist-packages (from python-dateutil>=2.8.2->pandas) (1.17.0)\n",
            "Downloading neo4j-5.28.1-py3-none-any.whl (312 kB)\n",
            "\u001b[2K   \u001b[90m━━━━━━━━━━━━━━━━━━━━━━━━━━━━━━━━━━━━━━━━\u001b[0m \u001b[32m312.3/312.3 kB\u001b[0m \u001b[31m6.4 MB/s\u001b[0m eta \u001b[36m0:00:00\u001b[0m\n",
            "\u001b[?25hInstalling collected packages: neo4j\n",
            "Successfully installed neo4j-5.28.1\n"
          ]
        }
      ]
    },
    {
      "cell_type": "code",
      "source": [
        "from neo4j import GraphDatabase\n",
        "\n",
        "# Get the correct URI from your Neo4j instance\n",
        "URI = \"neo4j+s://acdd2464.databases.neo4j.io\"\n",
        "USERNAME = \"neo4j\"\n",
        "PASSWORD = \"y9iffGR0ilx6Cv89j2-_bwFSbMJrGARzZ7n-5I4Sljw\"\n",
        "\n",
        "# Connect to Neo4j\n",
        "driver = GraphDatabase.driver(URI, auth=(USERNAME, PASSWORD))\n",
        "\n",
        "print(\"Connected to Neo4j successfully!\")\n"
      ],
      "metadata": {
        "colab": {
          "base_uri": "https://localhost:8080/"
        },
        "id": "8QhzVqfbtPSd",
        "outputId": "0731afb0-3722-4311-a5ac-5594fe700eda"
      },
      "execution_count": 9,
      "outputs": [
        {
          "output_type": "stream",
          "name": "stdout",
          "text": [
            "Connected to Neo4j successfully!\n"
          ]
        }
      ]
    },
    {
      "cell_type": "code",
      "source": [
        "# Function to insert trades into Neo4j\n",
        "def insert_trade(tx, trade_id, symbol, volume, price, timestamp):\n",
        "    query = \"\"\"\n",
        "    CREATE (t:Trade {trade_id: $trade_id, symbol: $symbol, volume: $volume, price: $price, timestamp: $timestamp})\n",
        "    \"\"\"\n",
        "    tx.run(query, trade_id=trade_id, symbol=symbol, volume=volume, price=price, timestamp=timestamp)\n",
        "\n",
        "# Insert each row into Neo4j\n",
        "with driver.session() as session:\n",
        "    for index, row in data.iterrows():\n",
        "        session.write_transaction(\n",
        "                                    insert_trade,\n",
        "                                    row['Trade_ID'],\n",
        "                                    row['Stock_Symbol'],\n",
        "                                    row['Volume'],\n",
        "                                    row['Price'],\n",
        "                                    row['Timestamp']\n",
        "                                )\n",
        "\n",
        "\n",
        "print(\"Trade data inserted successfully!\")"
      ],
      "metadata": {
        "colab": {
          "base_uri": "https://localhost:8080/"
        },
        "id": "LzTFuQKGwC16",
        "outputId": "e2cbc88b-038b-407c-a725-1c22214e38c0"
      },
      "execution_count": 12,
      "outputs": [
        {
          "output_type": "stream",
          "name": "stderr",
          "text": [
            "<ipython-input-12-e3b904ef9fa5>:11: DeprecationWarning: write_transaction has been renamed to execute_write\n",
            "  session.write_transaction(\n"
          ]
        },
        {
          "output_type": "stream",
          "name": "stdout",
          "text": [
            "Trade data inserted successfully!\n"
          ]
        }
      ]
    },
    {
      "cell_type": "code",
      "source": [
        "def create_consecutive_relationships(tx):\n",
        "    query = \"\"\"\n",
        "    MATCH (t1:Trade), (t2:Trade)\n",
        "    WHERE t1.timestamp < t2.timestamp\n",
        "    WITH t1, t2 ORDER BY t1.timestamp, t2.timestamp\n",
        "    WITH COLLECT(t1) AS trades\n",
        "    UNWIND RANGE(0, SIZE(trades) - 2) AS i\n",
        "    WITH trades[i] AS current, trades[i+1] AS next\n",
        "    MERGE (current)-[:NEXT_TRADE]->(next)\n",
        "    \"\"\"\n",
        "    tx.run(query)\n",
        "\n",
        "with driver.session() as session:\n",
        "    session.write_transaction(create_consecutive_relationships)\n",
        "\n",
        "print(\"✅ Consecutive trade relationships created!\")\n",
        "\n",
        "\n"
      ],
      "metadata": {
        "colab": {
          "base_uri": "https://localhost:8080/"
        },
        "id": "-ZT_1CcHwZfW",
        "outputId": "a1b8c99c-5fec-44fb-8984-3fe879bf45ee"
      },
      "execution_count": 13,
      "outputs": [
        {
          "output_type": "stream",
          "name": "stderr",
          "text": [
            "<ipython-input-13-b8e7028dcd2f>:14: DeprecationWarning: write_transaction has been renamed to execute_write\n",
            "  session.write_transaction(create_consecutive_relationships)\n"
          ]
        },
        {
          "output_type": "stream",
          "name": "stdout",
          "text": [
            "✅ Consecutive trade relationships created!\n"
          ]
        }
      ]
    },
    {
      "cell_type": "code",
      "source": [
        "def create_stock_relationships(tx):\n",
        "    query = \"\"\"\n",
        "    MATCH (t1:Trade), (t2:Trade)\n",
        "    WHERE t1.stock = t2.stock AND t1 <> t2\n",
        "    MERGE (t1)-[:SAME_STOCK]->(t2)\n",
        "    \"\"\"\n",
        "    tx.run(query)\n",
        "\n",
        "with driver.session() as session:\n",
        "    session.write_transaction(create_stock_relationships)\n",
        "\n",
        "print(\"✅ Same stock trade relationships created!\")\n"
      ],
      "metadata": {
        "colab": {
          "base_uri": "https://localhost:8080/"
        },
        "id": "pI34AXIIx5GV",
        "outputId": "63ef2332-40b0-4ae7-d451-859d217920d4"
      },
      "execution_count": 14,
      "outputs": [
        {
          "output_type": "stream",
          "name": "stderr",
          "text": [
            "<ipython-input-14-67fd73542ed1>:10: DeprecationWarning: write_transaction has been renamed to execute_write\n",
            "  session.write_transaction(create_stock_relationships)\n"
          ]
        },
        {
          "output_type": "stream",
          "name": "stdout",
          "text": [
            "✅ Same stock trade relationships created!\n"
          ]
        }
      ]
    },
    {
      "cell_type": "code",
      "source": [
        "def get_all_trades(tx):\n",
        "    query = \"\"\"\n",
        "    MATCH (t:Trade)\n",
        "    RETURN t.id AS Trade_ID, t.stock AS Stock_Symbol, t.price AS Price, t.volume AS Volume, t.timestamp AS Timestamp\n",
        "    ORDER BY t.timestamp\n",
        "    \"\"\"\n",
        "    return tx.run(query).data()\n",
        "\n",
        "with driver.session() as session:\n",
        "    trades = session.read_transaction(get_all_trades)\n",
        "\n",
        "import pandas as pd\n",
        "df_trades = pd.DataFrame(trades)\n",
        "print(df_trades)\n"
      ],
      "metadata": {
        "colab": {
          "base_uri": "https://localhost:8080/"
        },
        "id": "zqxiukN2x9qH",
        "outputId": "ac43e12b-631c-4f93-cc87-add56615d70d"
      },
      "execution_count": 15,
      "outputs": [
        {
          "output_type": "stream",
          "name": "stderr",
          "text": [
            "<ipython-input-15-8062b93ea603>:10: DeprecationWarning: read_transaction has been renamed to execute_read\n",
            "  trades = session.read_transaction(get_all_trades)\n",
            "WARNING:neo4j.notifications:Received notification from DBMS server: {severity: WARNING} {code: Neo.ClientNotification.Statement.UnknownPropertyKeyWarning} {category: UNRECOGNIZED} {title: The provided property key is not in the database} {description: One of the property names in your query is not available in the database, make sure you didn't misspell it or that the label is available when you run this statement in your application (the missing property name is: id)} {position: line: 3, column: 14, offset: 34} for query: '\\n    MATCH (t:Trade)\\n    RETURN t.id AS Trade_ID, t.stock AS Stock_Symbol, t.price AS Price, t.volume AS Volume, t.timestamp AS Timestamp\\n    ORDER BY t.timestamp\\n    '\n",
            "WARNING:neo4j.notifications:Received notification from DBMS server: {severity: WARNING} {code: Neo.ClientNotification.Statement.UnknownPropertyKeyWarning} {category: UNRECOGNIZED} {title: The provided property key is not in the database} {description: One of the property names in your query is not available in the database, make sure you didn't misspell it or that the label is available when you run this statement in your application (the missing property name is: stock)} {position: line: 3, column: 32, offset: 52} for query: '\\n    MATCH (t:Trade)\\n    RETURN t.id AS Trade_ID, t.stock AS Stock_Symbol, t.price AS Price, t.volume AS Volume, t.timestamp AS Timestamp\\n    ORDER BY t.timestamp\\n    '\n"
          ]
        },
        {
          "output_type": "stream",
          "name": "stdout",
          "text": [
            "  Trade_ID Stock_Symbol  Price  Volume            Timestamp\n",
            "0     None         None  150.5     100  2024-02-19 10:00:00\n",
            "1     None         None  151.0     150  2024-02-19 10:05:00\n",
            "2     None         None  300.2     200  2024-02-19 10:10:00\n",
            "3     None         None  152.0     120  2024-02-19 10:15:00\n",
            "4     None         None  299.8     180  2024-02-19 10:20:00\n"
          ]
        }
      ]
    },
    {
      "cell_type": "code",
      "source": [
        "def get_latest_trade(tx, stock_symbol):\n",
        "    query = \"\"\"\n",
        "    MATCH (t:Trade {stock: $stock_symbol})\n",
        "    RETURN t.id AS Trade_ID, t.price AS Price, t.volume AS Volume, t.timestamp AS Timestamp\n",
        "    ORDER BY t.timestamp DESC\n",
        "    LIMIT 1\n",
        "    \"\"\"\n",
        "    return tx.run(query, stock_symbol=stock_symbol).data()\n",
        "\n",
        "with driver.session() as session:\n",
        "    latest_trade = session.read_transaction(get_latest_trade, \"AAPL\")\n",
        "\n",
        "print(latest_trade)\n"
      ],
      "metadata": {
        "colab": {
          "base_uri": "https://localhost:8080/"
        },
        "id": "hpjBcYkKytFN",
        "outputId": "34c2203c-b4aa-404b-80db-e95cfdf28a74"
      },
      "execution_count": 16,
      "outputs": [
        {
          "output_type": "stream",
          "name": "stderr",
          "text": [
            "<ipython-input-16-c28a9aab24f8>:11: DeprecationWarning: read_transaction has been renamed to execute_read\n",
            "  latest_trade = session.read_transaction(get_latest_trade, \"AAPL\")\n",
            "WARNING:neo4j.notifications:Received notification from DBMS server: {severity: WARNING} {code: Neo.ClientNotification.Statement.UnknownPropertyKeyWarning} {category: UNRECOGNIZED} {title: The provided property key is not in the database} {description: One of the property names in your query is not available in the database, make sure you didn't misspell it or that the label is available when you run this statement in your application (the missing property name is: stock)} {position: line: 2, column: 21, offset: 21} for query: '\\n    MATCH (t:Trade {stock: $stock_symbol})\\n    RETURN t.id AS Trade_ID, t.price AS Price, t.volume AS Volume, t.timestamp AS Timestamp\\n    ORDER BY t.timestamp DESC\\n    LIMIT 1\\n    '\n",
            "WARNING:neo4j.notifications:Received notification from DBMS server: {severity: WARNING} {code: Neo.ClientNotification.Statement.UnknownPropertyKeyWarning} {category: UNRECOGNIZED} {title: The provided property key is not in the database} {description: One of the property names in your query is not available in the database, make sure you didn't misspell it or that the label is available when you run this statement in your application (the missing property name is: id)} {position: line: 3, column: 14, offset: 57} for query: '\\n    MATCH (t:Trade {stock: $stock_symbol})\\n    RETURN t.id AS Trade_ID, t.price AS Price, t.volume AS Volume, t.timestamp AS Timestamp\\n    ORDER BY t.timestamp DESC\\n    LIMIT 1\\n    '\n"
          ]
        },
        {
          "output_type": "stream",
          "name": "stdout",
          "text": [
            "[]\n"
          ]
        }
      ]
    },
    {
      "cell_type": "code",
      "source": [
        "def get_price_trend(tx, stock_symbol):\n",
        "    query = \"\"\"\n",
        "    MATCH (t:Trade {stock: $stock_symbol})\n",
        "    RETURN t.timestamp AS Timestamp, t.price AS Price\n",
        "    ORDER BY t.timestamp\n",
        "    \"\"\"\n",
        "    return tx.run(query, stock_symbol=stock_symbol).data()\n",
        "\n",
        "with driver.session() as session:\n",
        "    price_trend = session.read_transaction(get_price_trend, \"AAPL\")\n",
        "\n",
        "df_price_trend = pd.DataFrame(price_trend)\n",
        "print(df_price_trend)\n"
      ],
      "metadata": {
        "colab": {
          "base_uri": "https://localhost:8080/"
        },
        "id": "iKbeZ5q9y1ap",
        "outputId": "6413206e-423b-498e-b0a3-8053eaf7cf4e"
      },
      "execution_count": 17,
      "outputs": [
        {
          "output_type": "stream",
          "name": "stderr",
          "text": [
            "<ipython-input-17-fc70682f1833>:10: DeprecationWarning: read_transaction has been renamed to execute_read\n",
            "  price_trend = session.read_transaction(get_price_trend, \"AAPL\")\n",
            "WARNING:neo4j.notifications:Received notification from DBMS server: {severity: WARNING} {code: Neo.ClientNotification.Statement.UnknownPropertyKeyWarning} {category: UNRECOGNIZED} {title: The provided property key is not in the database} {description: One of the property names in your query is not available in the database, make sure you didn't misspell it or that the label is available when you run this statement in your application (the missing property name is: stock)} {position: line: 2, column: 21, offset: 21} for query: '\\n    MATCH (t:Trade {stock: $stock_symbol})\\n    RETURN t.timestamp AS Timestamp, t.price AS Price\\n    ORDER BY t.timestamp\\n    '\n"
          ]
        },
        {
          "output_type": "stream",
          "name": "stdout",
          "text": [
            "Empty DataFrame\n",
            "Columns: []\n",
            "Index: []\n"
          ]
        }
      ]
    },
    {
      "cell_type": "code",
      "source": [
        "def detect_anomalies(tx, stock_symbol):\n",
        "    query = \"\"\"\n",
        "    MATCH (t:Trade)\n",
        "    WHERE t.symbol = $stock_symbol\n",
        "    RETURN t.trade_id AS Trade_ID, t.price AS Price, t.timestamp AS Timestamp\n",
        "    ORDER BY t.timestamp\n",
        "    \"\"\"\n",
        "    trades = tx.run(query, stock_symbol=stock_symbol).data()\n",
        "\n",
        "    # Convert to DataFrame\n",
        "    df = pd.DataFrame(trades)\n",
        "\n",
        "    # Debugging: Print column names\n",
        "    print(\"Columns in DataFrame:\", df.columns)\n",
        "\n",
        "    # Compute mean and standard deviation\n",
        "    mean_price = df[\"Price\"].mean()\n",
        "    std_price = df[\"Price\"].std()\n",
        "\n",
        "    # Compute Z-score\n",
        "    df[\"Z_score\"] = (df[\"Price\"] - mean_price) / std_price\n",
        "\n",
        "    # Flag anomalies where |Z_score| > 2.5\n",
        "    df[\"Anomaly\"] = df[\"Z_score\"].abs() > 2.5\n",
        "\n",
        "    return df[df[\"Anomaly\"]]  # Return only anomalies\n",
        "\n",
        "with driver.session() as session:\n",
        "    anomalies = session.execute_read(detect_anomalies, \"AAPL\")\n",
        "\n",
        "print(anomalies)\n"
      ],
      "metadata": {
        "colab": {
          "base_uri": "https://localhost:8080/"
        },
        "id": "IfbxVy-Jy7rY",
        "outputId": "265a863d-69a3-455f-a3dd-5014f319930e"
      },
      "execution_count": 20,
      "outputs": [
        {
          "output_type": "stream",
          "name": "stdout",
          "text": [
            "Columns in DataFrame: Index(['Trade_ID', 'Price', 'Timestamp'], dtype='object')\n",
            "Empty DataFrame\n",
            "Columns: [Trade_ID, Price, Timestamp, Z_score, Anomaly]\n",
            "Index: []\n"
          ]
        }
      ]
    },
    {
      "cell_type": "code",
      "source": [
        "def check_trade_properties(tx):\n",
        "    query = \"\"\"\n",
        "    MATCH (t:Trade)\n",
        "    RETURN t LIMIT 5\n",
        "    \"\"\"\n",
        "    result = tx.run(query).data()\n",
        "    return result\n",
        "\n",
        "with driver.session() as session:\n",
        "    trades = session.execute_read(check_trade_properties)\n",
        "\n",
        "print(trades)\n"
      ],
      "metadata": {
        "colab": {
          "base_uri": "https://localhost:8080/"
        },
        "id": "4UzBG7OZ0ZLx",
        "outputId": "d76b1385-e043-417c-c64a-c3ef0ad5f34f"
      },
      "execution_count": 19,
      "outputs": [
        {
          "output_type": "stream",
          "name": "stdout",
          "text": [
            "[{'t': {'volume': 100, 'symbol': 'AAPL', 'trade_id': 1, 'price': 150.5, 'timestamp': '2024-02-19 10:00:00'}}, {'t': {'volume': 150, 'symbol': 'AAPL', 'trade_id': 2, 'price': 151.0, 'timestamp': '2024-02-19 10:05:00'}}, {'t': {'volume': 200, 'symbol': 'MSFT', 'trade_id': 3, 'price': 300.2, 'timestamp': '2024-02-19 10:10:00'}}, {'t': {'volume': 120, 'symbol': 'AAPL', 'trade_id': 4, 'price': 152.0, 'timestamp': '2024-02-19 10:15:00'}}, {'t': {'volume': 180, 'symbol': 'MSFT', 'trade_id': 5, 'price': 299.8, 'timestamp': '2024-02-19 10:20:00'}}]\n"
          ]
        }
      ]
    },
    {
      "cell_type": "code",
      "source": [
        "!pip install matplotlib\n"
      ],
      "metadata": {
        "colab": {
          "base_uri": "https://localhost:8080/"
        },
        "id": "AA6LSvwx0jDd",
        "outputId": "e4368245-1650-412c-d674-be2705ec53f1"
      },
      "execution_count": 21,
      "outputs": [
        {
          "output_type": "stream",
          "name": "stdout",
          "text": [
            "Requirement already satisfied: matplotlib in /usr/local/lib/python3.11/dist-packages (3.10.0)\n",
            "Requirement already satisfied: contourpy>=1.0.1 in /usr/local/lib/python3.11/dist-packages (from matplotlib) (1.3.1)\n",
            "Requirement already satisfied: cycler>=0.10 in /usr/local/lib/python3.11/dist-packages (from matplotlib) (0.12.1)\n",
            "Requirement already satisfied: fonttools>=4.22.0 in /usr/local/lib/python3.11/dist-packages (from matplotlib) (4.56.0)\n",
            "Requirement already satisfied: kiwisolver>=1.3.1 in /usr/local/lib/python3.11/dist-packages (from matplotlib) (1.4.8)\n",
            "Requirement already satisfied: numpy>=1.23 in /usr/local/lib/python3.11/dist-packages (from matplotlib) (1.26.4)\n",
            "Requirement already satisfied: packaging>=20.0 in /usr/local/lib/python3.11/dist-packages (from matplotlib) (24.2)\n",
            "Requirement already satisfied: pillow>=8 in /usr/local/lib/python3.11/dist-packages (from matplotlib) (11.1.0)\n",
            "Requirement already satisfied: pyparsing>=2.3.1 in /usr/local/lib/python3.11/dist-packages (from matplotlib) (3.2.1)\n",
            "Requirement already satisfied: python-dateutil>=2.7 in /usr/local/lib/python3.11/dist-packages (from matplotlib) (2.8.2)\n",
            "Requirement already satisfied: six>=1.5 in /usr/local/lib/python3.11/dist-packages (from python-dateutil>=2.7->matplotlib) (1.17.0)\n"
          ]
        }
      ]
    },
    {
      "cell_type": "code",
      "source": [
        "import matplotlib.pyplot as plt\n"
      ],
      "metadata": {
        "id": "QMG9JH3E1hhQ"
      },
      "execution_count": 22,
      "outputs": []
    },
    {
      "cell_type": "code",
      "source": [
        "def detect_anomalies(tx, stock_symbol):\n",
        "    query = \"\"\"\n",
        "    MATCH (t:Trade)\n",
        "    WHERE t.symbol = $stock_symbol\n",
        "    RETURN t.trade_id AS Trade_ID,\n",
        "           t.price AS Price,\n",
        "           t.timestamp AS Timestamp\n",
        "    ORDER BY t.timestamp\n",
        "    \"\"\"\n",
        "    return list(tx.run(query, stock_symbol=stock_symbol))\n"
      ],
      "metadata": {
        "id": "YjUCljrL3j4P"
      },
      "execution_count": 34,
      "outputs": []
    },
    {
      "cell_type": "code",
      "source": [
        "with driver.session() as session:\n",
        "    results = session.execute_read(detect_anomalies, \"AAPL\")\n",
        "\n",
        "print(\"Raw Data from Neo4j:\", results)  # This should NOT be empty\n"
      ],
      "metadata": {
        "colab": {
          "base_uri": "https://localhost:8080/"
        },
        "id": "odbdl9DU3l_c",
        "outputId": "e79c8fa7-8421-468e-a77e-2d4ac51c707d"
      },
      "execution_count": 35,
      "outputs": [
        {
          "output_type": "stream",
          "name": "stdout",
          "text": [
            "Raw Data from Neo4j: [<Record Trade_ID=1 Price=150.5 Timestamp='2024-02-19 10:00:00'>, <Record Trade_ID=2 Price=151.0 Timestamp='2024-02-19 10:05:00'>, <Record Trade_ID=4 Price=152.0 Timestamp='2024-02-19 10:15:00'>]\n"
          ]
        }
      ]
    },
    {
      "cell_type": "code",
      "source": [
        "import pandas as pd\n",
        "\n",
        "# Convert Neo4j records to a list of dictionaries\n",
        "data = [dict(record) for record in results]\n",
        "\n",
        "# Convert to DataFrame\n",
        "df = pd.DataFrame(data)\n",
        "\n",
        "print(\"Converted DataFrame:\\n\", df.head())  # Debugging step\n"
      ],
      "metadata": {
        "colab": {
          "base_uri": "https://localhost:8080/"
        },
        "id": "IiLEg36h32Dt",
        "outputId": "0b14d394-da43-4454-f113-48b94d79f4d2"
      },
      "execution_count": 36,
      "outputs": [
        {
          "output_type": "stream",
          "name": "stdout",
          "text": [
            "Converted DataFrame:\n",
            "    Trade_ID  Price            Timestamp\n",
            "0         1  150.5  2024-02-19 10:00:00\n",
            "1         2  151.0  2024-02-19 10:05:00\n",
            "2         4  152.0  2024-02-19 10:15:00\n"
          ]
        }
      ]
    },
    {
      "cell_type": "code",
      "source": [
        "df[\"Timestamp\"] = pd.to_datetime(df[\"Timestamp\"])\n"
      ],
      "metadata": {
        "id": "mtPjedRL4nHG"
      },
      "execution_count": 37,
      "outputs": []
    },
    {
      "cell_type": "code",
      "source": [
        "import matplotlib.pyplot as plt\n",
        "\n",
        "plt.figure(figsize=(10, 5))\n",
        "plt.plot(df[\"Timestamp\"], df[\"Price\"], marker=\"o\", linestyle=\"-\", label=\"Stock Price\")\n",
        "\n",
        "plt.xlabel(\"Timestamp\")\n",
        "plt.ylabel(\"Stock Price\")\n",
        "plt.title(\"Stock Price Trend\")\n",
        "plt.legend()\n",
        "plt.xticks(rotation=45)\n",
        "plt.grid()\n",
        "plt.show()\n"
      ],
      "metadata": {
        "colab": {
          "base_uri": "https://localhost:8080/",
          "height": 527
        },
        "id": "5cGHw7Fo41m7",
        "outputId": "92fac3a7-ef75-4580-dd16-6bb959e21ae1"
      },
      "execution_count": 38,
      "outputs": [
        {
          "output_type": "display_data",
          "data": {
            "text/plain": [
              "<Figure size 1000x500 with 1 Axes>"
            ],
            "image/png": "[encoded data removed]"
          },
          "metadata": {}
        }
      ]
    },
    {
      "cell_type": "code",
      "source": [],
      "metadata": {
        "id": "g_m-vgXe45Dz"
      },
      "execution_count": null,
      "outputs": []
    }
  ]
}